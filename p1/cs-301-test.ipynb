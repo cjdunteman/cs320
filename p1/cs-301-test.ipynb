{
 "cells": [
  {
   "cell_type": "code",
   "execution_count": 1,
   "metadata": {},
   "outputs": [
    {
     "data": {
      "text/plain": [
       "''"
      ]
     },
     "execution_count": 1,
     "metadata": {},
     "output_type": "execute_result"
    }
   ],
   "source": [
    "import pandas as pd\n",
    "from pandas import Series, DataFrame\n",
    "import os\n",
    "import json\n",
    "from subprocess import check_output\n",
    "import string\n",
    "import random\n",
    "import time\n",
    "import numpy as np\n",
    "\n",
    "from git import Repo\n",
    "dirname = \"repo\"\n",
    "repo = Repo(dirname)\n",
    "repo.git.checkout(\"master\")"
   ]
  },
  {
   "cell_type": "code",
   "execution_count": 2,
   "metadata": {},
   "outputs": [],
   "source": [
    "%matplotlib inline"
   ]
  },
  {
   "cell_type": "code",
   "execution_count": 3,
   "metadata": {},
   "outputs": [
    {
     "data": {
      "text/plain": [
       "8"
      ]
     },
     "execution_count": 3,
     "metadata": {},
     "output_type": "execute_result"
    }
   ],
   "source": [
    "# q1\n",
    "\n",
    "commits_list = list(repo.iter_commits('master'))\n",
    "len(commits_list)"
   ]
  },
  {
   "cell_type": "code",
   "execution_count": 4,
   "metadata": {},
   "outputs": [
    {
     "data": {
      "text/plain": [
       "{'Steve': 3, 'Ada': 3, 'Linus': 2}"
      ]
     },
     "execution_count": 4,
     "metadata": {},
     "output_type": "execute_result"
    }
   ],
   "source": [
    "# q2\n",
    "\n",
    "author_commits = {}\n",
    "\n",
    "for i in range(len(commits_list)):\n",
    "    name = commits_list[i].author.name\n",
    "    if name in author_commits:\n",
    "        author_commits[name] += 1\n",
    "    else:\n",
    "        author_commits[name] = 1\n",
    "    \n",
    "author_commits"
   ]
  },
  {
   "cell_type": "code",
   "execution_count": 5,
   "metadata": {},
   "outputs": [
    {
     "data": {
      "text/plain": [
       "<matplotlib.axes._subplots.AxesSubplot at 0x7f2b72131ac8>"
      ]
     },
     "execution_count": 5,
     "metadata": {},
     "output_type": "execute_result"
    },
    {
     "data": {
      "image/png": "[encoded data removed]",
      "text/plain": [
       "<Figure size 108x288 with 1 Axes>"
      ]
     },
     "metadata": {
      "needs_background": "light"
     },
     "output_type": "display_data"
    }
   ],
   "source": [
    "# q3\n",
    "\n",
    "s = Series(author_commits)\n",
    "s\n",
    "\n",
    "import matplotlib.pyplot as plt\n",
    "\n",
    "def get_ax(figsize=(4,4)):\n",
    "    fig, ax = plt.subplots(figsize=figsize)\n",
    "    ax.spines['right'].set_visible(False)\n",
    "    ax.spines['top'].set_visible(False)\n",
    "    return ax\n",
    "\n",
    "ax = get_ax((1.5, 4))\n",
    "ax.set_ylabel(\"Commit Count\")\n",
    "s.plot.bar(ax=ax, color=\"0\")"
   ]
  },
  {
   "cell_type": "code",
   "execution_count": 6,
   "metadata": {},
   "outputs": [],
   "source": [
    "from datetime import datetime # yes, both the module and type are named datetime"
   ]
  },
  {
   "cell_type": "code",
   "execution_count": 7,
   "metadata": {},
   "outputs": [
    {
     "data": {
      "text/plain": [
       "{'Steve'}"
      ]
     },
     "execution_count": 7,
     "metadata": {},
     "output_type": "execute_result"
    }
   ],
   "source": [
    "# q4\n",
    "\n",
    "empty_dict = {}\n",
    "authors_set = set(empty_dict)\n",
    "\n",
    "for i in range(len(commits_list)):\n",
    "    unix = commits_list[i].authored_date\n",
    "    dt = datetime.fromtimestamp(unix)\n",
    "    day = dt.isoweekday()\n",
    "    if day in (6, 7) and commits_list[i].author.name not in authors_set:\n",
    "        authors_set.add(commits_list[i].author.name)\n",
    "    else: \n",
    "        pass\n",
    "    \n",
    "authors_set"
   ]
  },
  {
   "cell_type": "code",
   "execution_count": 8,
   "metadata": {},
   "outputs": [],
   "source": [
    "# q5\n",
    "    \n"
   ]
  },
  {
   "cell_type": "code",
   "execution_count": 9,
   "metadata": {},
   "outputs": [],
   "source": [
    "# q6"
   ]
  },
  {
   "cell_type": "code",
   "execution_count": 10,
   "metadata": {},
   "outputs": [],
   "source": [
    "def run_wc(body, commit=None):\n",
    "    \"\"\"Run a specific version of wc.py on a given text and return it's output as JSON.\"\"\"\n",
    "    \n",
    "    with open(\"test.txt\", \"w\", encoding = \"utf-8\") as f:\n",
    "        f.write(body)\n",
    "    \n",
    "    if commit != None:\n",
    "        repo.git.checkout(commit)\n",
    "    else:\n",
    "        repo.git.checkout('master')      \n",
    "    try:\n",
    "        output = str(check_output(\"python3 repo/wc.py test.txt ALL\", shell = True), encoding = \"utf-8\")\n",
    "        json_file = json.loads(output)\n",
    "        return json_file\n",
    "    except:\n",
    "        return None"
   ]
  },
  {
   "cell_type": "code",
   "execution_count": 11,
   "metadata": {},
   "outputs": [],
   "source": [
    "# test inputs to exercise wc.py\n",
    "\n",
    "# expected result: {'X': 1, 'Y': 1, 'Z': 1}\n",
    "test1 = \"\"\"X Y Z\"\"\"\n",
    "\n",
    "# expected result: \n",
    "test2 = \"\"\"A B\n",
    "A C\n",
    "\"\"\"\n",
    "\n",
    "# expected result: {'A': 2, 'B': 1, 'C': 1}\n",
    "test3 = \"\"\"A B\n",
    "a c\"\"\""
   ]
  },
  {
   "cell_type": "code",
   "execution_count": 12,
   "metadata": {},
   "outputs": [
    {
     "data": {
      "text/plain": [
       "{'X': 1, 'Y': 1, 'Z': 1}"
      ]
     },
     "execution_count": 12,
     "metadata": {},
     "output_type": "execute_result"
    }
   ],
   "source": [
    "# q7 \n",
    "\n",
    "run_wc(test1)"
   ]
  },
  {
   "cell_type": "code",
   "execution_count": 13,
   "metadata": {},
   "outputs": [
    {
     "data": {
      "text/plain": [
       "{'A': 2, 'B': 1, 'C': 1}"
      ]
     },
     "execution_count": 13,
     "metadata": {},
     "output_type": "execute_result"
    }
   ],
   "source": [
    "# q8\n",
    "\n",
    "run_wc(test3)"
   ]
  },
  {
   "cell_type": "code",
   "execution_count": 14,
   "metadata": {},
   "outputs": [],
   "source": [
    "def test_table(body, expected):\n",
    "    \"\"\"Run every version of wc.py on a given output, and check which version produce correct output.\"\"\"\n",
    "\n",
    "    commit_output = {}\n",
    "    df = pd.DataFrame()\n",
    "    \n",
    "    for i in reversed(range(len(commits_list))):\n",
    "        commit_output['commit'] = commits_list[i].hexsha\n",
    "        commit_output['msg20'] = commits_list[i].message.replace('\\n','')[:20]\n",
    "        commit_output['author'] = commits_list[i].author.name\n",
    "        commit_output['pass'] = str(run_wc(body, commits_list[i]) == expected)\n",
    "        df = df.append(commit_output, ignore_index=True)\n",
    "        \n",
    "    return df       \n",
    "\n",
    "# Resource on how to append dicts to pandas dataframe\n",
    "# https://stackoverflow.com/questions/43957347/append-dictionary-to-pandas-dataframe-in-a-loop\n",
    "\n",
    "# How to loop backwards in python\n",
    "# https://stackoverflow.com/questions/3476732/how-to-loop-backwards-in-python"
   ]
  },
  {
   "cell_type": "code",
   "execution_count": 15,
   "metadata": {
    "scrolled": true
   },
   "outputs": [
    {
     "data": {
      "text/html": [
       "<div>\n",
       "<style scoped>\n",
       "    .dataframe tbody tr th:only-of-type {\n",
       "        vertical-align: middle;\n",
       "    }\n",
       "\n",
       "    .dataframe tbody tr th {\n",
       "        vertical-align: top;\n",
       "    }\n",
       "\n",
       "    .dataframe thead th {\n",
       "        text-align: right;\n",
       "    }\n",
       "</style>\n",
       "<table border=\"1\" class=\"dataframe\">\n",
       "  <thead>\n",
       "    <tr style=\"text-align: right;\">\n",
       "      <th></th>\n",
       "      <th>author</th>\n",
       "      <th>commit</th>\n",
       "      <th>msg20</th>\n",
       "      <th>pass</th>\n",
       "    </tr>\n",
       "  </thead>\n",
       "  <tbody>\n",
       "    <tr>\n",
       "      <th>0</th>\n",
       "      <td>Ada</td>\n",
       "      <td>6d7beafb8e79b7a92fed8e67673a33bb7f607dbe</td>\n",
       "      <td>count a specific wor</td>\n",
       "      <td>False</td>\n",
       "    </tr>\n",
       "    <tr>\n",
       "      <th>1</th>\n",
       "      <td>Linus</td>\n",
       "      <td>b0df6dbe111f9e28fc3a9c9b841cde5c20c365f9</td>\n",
       "      <td>support wildcards</td>\n",
       "      <td>True</td>\n",
       "    </tr>\n",
       "    <tr>\n",
       "      <th>2</th>\n",
       "      <td>Linus</td>\n",
       "      <td>761627a3ad9ee681f27211326e9149f01764ceee</td>\n",
       "      <td>bugfix</td>\n",
       "      <td>True</td>\n",
       "    </tr>\n",
       "    <tr>\n",
       "      <th>3</th>\n",
       "      <td>Ada</td>\n",
       "      <td>6f5ca9327e986315ffcacddce5d9d6195c0913b7</td>\n",
       "      <td>ignore case, usage l</td>\n",
       "      <td>True</td>\n",
       "    </tr>\n",
       "    <tr>\n",
       "      <th>4</th>\n",
       "      <td>Steve</td>\n",
       "      <td>f37e610ce055a3d894baac2d9449e6eb77c72320</td>\n",
       "      <td>do not repeatedly re</td>\n",
       "      <td>True</td>\n",
       "    </tr>\n",
       "    <tr>\n",
       "      <th>5</th>\n",
       "      <td>Ada</td>\n",
       "      <td>c10b5a6cb4f06c96f6f221df2d5ec33af767d5c5</td>\n",
       "      <td>optimize: only compu</td>\n",
       "      <td>True</td>\n",
       "    </tr>\n",
       "    <tr>\n",
       "      <th>6</th>\n",
       "      <td>Steve</td>\n",
       "      <td>f637df3f45bc389e1035cc3aadcf5d81a55f0dc4</td>\n",
       "      <td>only make one pass o</td>\n",
       "      <td>False</td>\n",
       "    </tr>\n",
       "    <tr>\n",
       "      <th>7</th>\n",
       "      <td>Steve</td>\n",
       "      <td>4e4128313b8d5b5e5d04f2e8e585f64f7c5831a4</td>\n",
       "      <td>only make one pass o</td>\n",
       "      <td>True</td>\n",
       "    </tr>\n",
       "  </tbody>\n",
       "</table>\n",
       "</div>"
      ],
      "text/plain": [
       "  author                                    commit                 msg20  \\\n",
       "0    Ada  6d7beafb8e79b7a92fed8e67673a33bb7f607dbe  count a specific wor   \n",
       "1  Linus  b0df6dbe111f9e28fc3a9c9b841cde5c20c365f9     support wildcards   \n",
       "2  Linus  761627a3ad9ee681f27211326e9149f01764ceee                bugfix   \n",
       "3    Ada  6f5ca9327e986315ffcacddce5d9d6195c0913b7  ignore case, usage l   \n",
       "4  Steve  f37e610ce055a3d894baac2d9449e6eb77c72320  do not repeatedly re   \n",
       "5    Ada  c10b5a6cb4f06c96f6f221df2d5ec33af767d5c5  optimize: only compu   \n",
       "6  Steve  f637df3f45bc389e1035cc3aadcf5d81a55f0dc4  only make one pass o   \n",
       "7  Steve  4e4128313b8d5b5e5d04f2e8e585f64f7c5831a4  only make one pass o   \n",
       "\n",
       "    pass  \n",
       "0  False  \n",
       "1   True  \n",
       "2   True  \n",
       "3   True  \n",
       "4   True  \n",
       "5   True  \n",
       "6  False  \n",
       "7   True  "
      ]
     },
     "execution_count": 15,
     "metadata": {},
     "output_type": "execute_result"
    }
   ],
   "source": [
    "# q9\n",
    "\n",
    "test_table(test1, {'X': 1, 'Y': 1, 'Z': 1})"
   ]
  },
  {
   "cell_type": "code",
   "execution_count": 16,
   "metadata": {},
   "outputs": [
    {
     "data": {
      "text/html": [
       "<div>\n",
       "<style scoped>\n",
       "    .dataframe tbody tr th:only-of-type {\n",
       "        vertical-align: middle;\n",
       "    }\n",
       "\n",
       "    .dataframe tbody tr th {\n",
       "        vertical-align: top;\n",
       "    }\n",
       "\n",
       "    .dataframe thead th {\n",
       "        text-align: right;\n",
       "    }\n",
       "</style>\n",
       "<table border=\"1\" class=\"dataframe\">\n",
       "  <thead>\n",
       "    <tr style=\"text-align: right;\">\n",
       "      <th></th>\n",
       "      <th>author</th>\n",
       "      <th>commit</th>\n",
       "      <th>msg20</th>\n",
       "      <th>pass</th>\n",
       "    </tr>\n",
       "  </thead>\n",
       "  <tbody>\n",
       "    <tr>\n",
       "      <th>0</th>\n",
       "      <td>Ada</td>\n",
       "      <td>6d7beafb8e79b7a92fed8e67673a33bb7f607dbe</td>\n",
       "      <td>count a specific wor</td>\n",
       "      <td>False</td>\n",
       "    </tr>\n",
       "    <tr>\n",
       "      <th>1</th>\n",
       "      <td>Linus</td>\n",
       "      <td>b0df6dbe111f9e28fc3a9c9b841cde5c20c365f9</td>\n",
       "      <td>support wildcards</td>\n",
       "      <td>False</td>\n",
       "    </tr>\n",
       "    <tr>\n",
       "      <th>2</th>\n",
       "      <td>Linus</td>\n",
       "      <td>761627a3ad9ee681f27211326e9149f01764ceee</td>\n",
       "      <td>bugfix</td>\n",
       "      <td>True</td>\n",
       "    </tr>\n",
       "    <tr>\n",
       "      <th>3</th>\n",
       "      <td>Ada</td>\n",
       "      <td>6f5ca9327e986315ffcacddce5d9d6195c0913b7</td>\n",
       "      <td>ignore case, usage l</td>\n",
       "      <td>True</td>\n",
       "    </tr>\n",
       "    <tr>\n",
       "      <th>4</th>\n",
       "      <td>Steve</td>\n",
       "      <td>f37e610ce055a3d894baac2d9449e6eb77c72320</td>\n",
       "      <td>do not repeatedly re</td>\n",
       "      <td>True</td>\n",
       "    </tr>\n",
       "    <tr>\n",
       "      <th>5</th>\n",
       "      <td>Ada</td>\n",
       "      <td>c10b5a6cb4f06c96f6f221df2d5ec33af767d5c5</td>\n",
       "      <td>optimize: only compu</td>\n",
       "      <td>True</td>\n",
       "    </tr>\n",
       "    <tr>\n",
       "      <th>6</th>\n",
       "      <td>Steve</td>\n",
       "      <td>f637df3f45bc389e1035cc3aadcf5d81a55f0dc4</td>\n",
       "      <td>only make one pass o</td>\n",
       "      <td>False</td>\n",
       "    </tr>\n",
       "    <tr>\n",
       "      <th>7</th>\n",
       "      <td>Steve</td>\n",
       "      <td>4e4128313b8d5b5e5d04f2e8e585f64f7c5831a4</td>\n",
       "      <td>only make one pass o</td>\n",
       "      <td>True</td>\n",
       "    </tr>\n",
       "  </tbody>\n",
       "</table>\n",
       "</div>"
      ],
      "text/plain": [
       "  author                                    commit                 msg20  \\\n",
       "0    Ada  6d7beafb8e79b7a92fed8e67673a33bb7f607dbe  count a specific wor   \n",
       "1  Linus  b0df6dbe111f9e28fc3a9c9b841cde5c20c365f9     support wildcards   \n",
       "2  Linus  761627a3ad9ee681f27211326e9149f01764ceee                bugfix   \n",
       "3    Ada  6f5ca9327e986315ffcacddce5d9d6195c0913b7  ignore case, usage l   \n",
       "4  Steve  f37e610ce055a3d894baac2d9449e6eb77c72320  do not repeatedly re   \n",
       "5    Ada  c10b5a6cb4f06c96f6f221df2d5ec33af767d5c5  optimize: only compu   \n",
       "6  Steve  f637df3f45bc389e1035cc3aadcf5d81a55f0dc4  only make one pass o   \n",
       "7  Steve  4e4128313b8d5b5e5d04f2e8e585f64f7c5831a4  only make one pass o   \n",
       "\n",
       "    pass  \n",
       "0  False  \n",
       "1  False  \n",
       "2   True  \n",
       "3   True  \n",
       "4   True  \n",
       "5   True  \n",
       "6  False  \n",
       "7   True  "
      ]
     },
     "execution_count": 16,
     "metadata": {},
     "output_type": "execute_result"
    }
   ],
   "source": [
    "# q10\n",
    "\n",
    "test_table(test2, {'A': 2, 'B': 1, 'C': 1})"
   ]
  },
  {
   "cell_type": "code",
   "execution_count": 17,
   "metadata": {},
   "outputs": [
    {
     "data": {
      "text/html": [
       "<div>\n",
       "<style scoped>\n",
       "    .dataframe tbody tr th:only-of-type {\n",
       "        vertical-align: middle;\n",
       "    }\n",
       "\n",
       "    .dataframe tbody tr th {\n",
       "        vertical-align: top;\n",
       "    }\n",
       "\n",
       "    .dataframe thead th {\n",
       "        text-align: right;\n",
       "    }\n",
       "</style>\n",
       "<table border=\"1\" class=\"dataframe\">\n",
       "  <thead>\n",
       "    <tr style=\"text-align: right;\">\n",
       "      <th></th>\n",
       "      <th>author</th>\n",
       "      <th>commit</th>\n",
       "      <th>msg20</th>\n",
       "      <th>pass</th>\n",
       "    </tr>\n",
       "  </thead>\n",
       "  <tbody>\n",
       "    <tr>\n",
       "      <th>0</th>\n",
       "      <td>Ada</td>\n",
       "      <td>6d7beafb8e79b7a92fed8e67673a33bb7f607dbe</td>\n",
       "      <td>count a specific wor</td>\n",
       "      <td>False</td>\n",
       "    </tr>\n",
       "    <tr>\n",
       "      <th>1</th>\n",
       "      <td>Linus</td>\n",
       "      <td>b0df6dbe111f9e28fc3a9c9b841cde5c20c365f9</td>\n",
       "      <td>support wildcards</td>\n",
       "      <td>False</td>\n",
       "    </tr>\n",
       "    <tr>\n",
       "      <th>2</th>\n",
       "      <td>Linus</td>\n",
       "      <td>761627a3ad9ee681f27211326e9149f01764ceee</td>\n",
       "      <td>bugfix</td>\n",
       "      <td>False</td>\n",
       "    </tr>\n",
       "    <tr>\n",
       "      <th>3</th>\n",
       "      <td>Ada</td>\n",
       "      <td>6f5ca9327e986315ffcacddce5d9d6195c0913b7</td>\n",
       "      <td>ignore case, usage l</td>\n",
       "      <td>True</td>\n",
       "    </tr>\n",
       "    <tr>\n",
       "      <th>4</th>\n",
       "      <td>Steve</td>\n",
       "      <td>f37e610ce055a3d894baac2d9449e6eb77c72320</td>\n",
       "      <td>do not repeatedly re</td>\n",
       "      <td>True</td>\n",
       "    </tr>\n",
       "    <tr>\n",
       "      <th>5</th>\n",
       "      <td>Ada</td>\n",
       "      <td>c10b5a6cb4f06c96f6f221df2d5ec33af767d5c5</td>\n",
       "      <td>optimize: only compu</td>\n",
       "      <td>True</td>\n",
       "    </tr>\n",
       "    <tr>\n",
       "      <th>6</th>\n",
       "      <td>Steve</td>\n",
       "      <td>f637df3f45bc389e1035cc3aadcf5d81a55f0dc4</td>\n",
       "      <td>only make one pass o</td>\n",
       "      <td>False</td>\n",
       "    </tr>\n",
       "    <tr>\n",
       "      <th>7</th>\n",
       "      <td>Steve</td>\n",
       "      <td>4e4128313b8d5b5e5d04f2e8e585f64f7c5831a4</td>\n",
       "      <td>only make one pass o</td>\n",
       "      <td>True</td>\n",
       "    </tr>\n",
       "  </tbody>\n",
       "</table>\n",
       "</div>"
      ],
      "text/plain": [
       "  author                                    commit                 msg20  \\\n",
       "0    Ada  6d7beafb8e79b7a92fed8e67673a33bb7f607dbe  count a specific wor   \n",
       "1  Linus  b0df6dbe111f9e28fc3a9c9b841cde5c20c365f9     support wildcards   \n",
       "2  Linus  761627a3ad9ee681f27211326e9149f01764ceee                bugfix   \n",
       "3    Ada  6f5ca9327e986315ffcacddce5d9d6195c0913b7  ignore case, usage l   \n",
       "4  Steve  f37e610ce055a3d894baac2d9449e6eb77c72320  do not repeatedly re   \n",
       "5    Ada  c10b5a6cb4f06c96f6f221df2d5ec33af767d5c5  optimize: only compu   \n",
       "6  Steve  f637df3f45bc389e1035cc3aadcf5d81a55f0dc4  only make one pass o   \n",
       "7  Steve  4e4128313b8d5b5e5d04f2e8e585f64f7c5831a4  only make one pass o   \n",
       "\n",
       "    pass  \n",
       "0  False  \n",
       "1  False  \n",
       "2  False  \n",
       "3   True  \n",
       "4   True  \n",
       "5   True  \n",
       "6  False  \n",
       "7   True  "
      ]
     },
     "execution_count": 17,
     "metadata": {},
     "output_type": "execute_result"
    }
   ],
   "source": [
    "# q11\n",
    "\n",
    "test_table(test3, {'A': 2, 'B': 1, 'C': 1})\n",
    "\n",
    "# Third input is the best because we want to make sure the least problems \n",
    "# occur and the third input produced the most, so we can test for worst \n",
    "# scenario."
   ]
  },
  {
   "cell_type": "code",
   "execution_count": 18,
   "metadata": {},
   "outputs": [],
   "source": [
    "versions = {\n",
    "    \"v0-baseline\": \"6f5ca9327e986315ffcacddce5d9d6195c0913b7\",\n",
    "    \"v1-open-once\": \"f37e610ce055a3d894baac2d9449e6eb77c72320\",\n",
    "    \"v2-pass-per-uniq\": \"c10b5a6cb4f06c96f6f221df2d5ec33af767d5c5\",\n",
    "    \"v3-single-pass\": \"4e4128313b8d5b5e5d04f2e8e585f64f7c5831a4\",\n",
    "}"
   ]
  },
  {
   "cell_type": "code",
   "execution_count": 19,
   "metadata": {},
   "outputs": [],
   "source": [
    "def time_run_sec(uniq_words, total_words, word_size=6, commit=None):\n",
    "    \"\"\"Randomly generate input for wc.py and time how long it takes to run\n",
    "\"\"\"\n",
    "    word_list = []\n",
    "    letters = string.ascii_lowercase\n",
    "    word_input = \"\"\n",
    "    word = \"\"\n",
    "    \n",
    "    for i in range(uniq_words):\n",
    "        word = \"\"\n",
    "        for j in range(word_size):\n",
    "            word = word + random.choice(letters)\n",
    "        word_list.append(word)\n",
    "        \n",
    "    for i in range(total_words):\n",
    "        word_input = word_input + \" \" + random.choice(word_list)\n",
    "        \n",
    "    repo.git.checkout(commit)\n",
    "    t0 = time.time()\n",
    "    run_wc(word_input, commit)\n",
    "    t1 = time.time()\n",
    "    run_time = t1 - t0\n",
    "\n",
    "    return run_time"
   ]
  },
  {
   "cell_type": "code",
   "execution_count": 20,
   "metadata": {},
   "outputs": [
    {
     "data": {
      "text/plain": [
       "Text(0.5, 0, 'Exec Time (ms)')"
      ]
     },
     "execution_count": 20,
     "metadata": {},
     "output_type": "execute_result"
    },
    {
     "data": {
      "image/png": "[encoded data removed]",
      "text/plain": [
       "<Figure size 288x144 with 1 Axes>"
      ]
     },
     "metadata": {
      "needs_background": "light"
     },
     "output_type": "display_data"
    }
   ],
   "source": [
    "# q12\n",
    "\n",
    "run_times_dict = {}\n",
    "\n",
    "for v in sorted((versions), reverse=True):\n",
    "    run_time = time_run_sec(100, 5000, 6, versions[v]) * 1000\n",
    "    run_times_dict[v] = run_time\n",
    "    \n",
    "run_times_series = pd.Series(run_times_dict)\n",
    "    \n",
    "ax = run_times_series.plot.barh(figsize = (4,2), logx = True, color = \"black\")\n",
    "\n",
    "ax.spines[\"top\"].set_visible(False)\n",
    "ax.spines[\"right\"].set_visible(False)\n",
    "\n",
    "ax.set_xticks([10, 10**2, 10**3])\n",
    "ax.set_xlabel(\"Exec Time (ms)\")"
   ]
  },
  {
   "cell_type": "code",
   "execution_count": 21,
   "metadata": {},
   "outputs": [
    {
     "data": {
      "text/plain": [
       "Text(0.5, 0, 'Exec Time (ms)')"
      ]
     },
     "execution_count": 21,
     "metadata": {},
     "output_type": "execute_result"
    },
    {
     "data": {
      "image/png": "[encoded data removed]",
      "text/plain": [
       "<Figure size 288x144 with 1 Axes>"
      ]
     },
     "metadata": {
      "needs_background": "light"
     },
     "output_type": "display_data"
    }
   ],
   "source": [
    "# q13\n",
    "\n",
    "run_times_dict = {}\n",
    "\n",
    "for v in sorted((versions), reverse=True):\n",
    "    run_time = time_run_sec(1, 5000, 6, versions[v]) * 1000\n",
    "    run_times_dict[v] = run_time\n",
    "    \n",
    "run_times_series = pd.Series(run_times_dict)\n",
    "run_times_series.sort_values(inplace=True)\n",
    "    \n",
    "ax = run_times_series.plot.barh(figsize = (4,2), logx = True, color = \"black\")\n",
    "\n",
    "ax.spines[\"top\"].set_visible(False)\n",
    "ax.spines[\"right\"].set_visible(False)\n",
    "\n",
    "ax.set_xticks([10, 10**2, 10**3])\n",
    "ax.set_xlabel(\"Exec Time (ms)\")"
   ]
  },
  {
   "cell_type": "code",
   "execution_count": 22,
   "metadata": {},
   "outputs": [],
   "source": [
    "def test_performance(uniq_per, total_words, commit, word_size=6):\n",
    "    \"\"\"Test performance of wc.py\"\"\"\n",
    "    run_times = {}\n",
    "    \n",
    "    for i in range(len(uniq_per)):\n",
    "        if uniq_per[i] not in run_times:\n",
    "            run_times[uniq_per[i]] = {}\n",
    "        for j in range(len(total_words)):\n",
    "            uniq_words = uniq_per[i] * total_words[j] // 100\n",
    "            run_time = time_run_sec(uniq_words, total_words[j], word_size=6, commit=commit)\n",
    "            run_times[uniq_per[i]][total_words[j]] = run_time\n",
    "    \n",
    "    df = pd.DataFrame(run_times)\n",
    "    \n",
    "    return df"
   ]
  },
  {
   "cell_type": "code",
   "execution_count": 23,
   "metadata": {},
   "outputs": [],
   "source": [
    "total_words = [1000, 2000, 5000, 10000]\n",
    "uniq_per = [10, 5, 1]"
   ]
  },
  {
   "cell_type": "code",
   "execution_count": 24,
   "metadata": {},
   "outputs": [
    {
     "data": {
      "image/png": "[encoded data removed]",
      "text/plain": [
       "<Figure size 864x288 with 2 Axes>"
      ]
     },
     "metadata": {
      "needs_background": "light"
     },
     "output_type": "display_data"
    }
   ],
   "source": [
    "# q14\n",
    "\n",
    "df_v2 = test_performance(uniq_per, total_words, versions['v2-pass-per-uniq'], 6)\n",
    "df_v3 = test_performance(uniq_per, total_words, versions['v3-single-pass'], 6)\n",
    "\n",
    "fig, axes = plt.subplots(nrows=1, ncols=2, figsize=(12, 4), sharey = True)\n",
    "\n",
    "axes[0].set_ylim([0, 0.4])\n",
    "axes[0].set_yticks([0, 0.1, 0.2, 0.3, 0.4])\n",
    "axes[0].set_xlabel(\"total words\")\n",
    "axes[0].set_ylabel(\"Times (s)\")\n",
    "axes[0].set_title(\"version 2\")\n",
    "axes[0].plot(df_v2)\n",
    "\n",
    "axes[1].plot(df_v3)\n",
    "axes[1].legend(uniq_per, title=\"percent uniq\")\n",
    "axes[1].set_title(\"version 3\")\n",
    "axes[1].set_xlabel(\"total words\")\n",
    "\n",
    "None\n",
    "\n",
    "# Side By Side Plots\n",
    "# https://stackoverflow.com/questions/42818361/how-to-make-two-plots-side-by-side-using-python"
   ]
  },
  {
   "cell_type": "code",
   "execution_count": 25,
   "metadata": {},
   "outputs": [
    {
     "data": {
      "image/png": "[encoded data removed]",
      "text/plain": [
       "<Figure size 864x288 with 2 Axes>"
      ]
     },
     "metadata": {
      "needs_background": "light"
     },
     "output_type": "display_data"
    }
   ],
   "source": [
    "# q15\n",
    "\n",
    "df_v2 = df_v2.transpose()\n",
    "df_v3 = df_v3.transpose()\n",
    "\n",
    "fig, axes = plt.subplots(nrows=1, ncols=2, figsize=(12, 4), sharey = True)\n",
    "\n",
    "axes[0].set_ylim([0, 0.4])\n",
    "axes[0].set_yticks([0, 0.1, 0.2, 0.3, 0.4])\n",
    "axes[0].set_xlabel(\"total words\")\n",
    "axes[0].set_ylabel(\"Times (s)\")\n",
    "axes[0].set_title(\"version 2\")\n",
    "axes[0].plot(df_v2)\n",
    "\n",
    "axes[1].plot(df_v3)\n",
    "axes[1].legend(total_words, title=\"total words\")\n",
    "axes[1].set_title(\"version 3\")\n",
    "axes[1].set_xlabel(\"total words\")\n",
    "\n",
    "None"
   ]
  },
  {
   "cell_type": "code",
   "execution_count": 26,
   "metadata": {},
   "outputs": [],
   "source": [
    "class Counter(object):\n",
    "    def __setitem__(self, key, value):\n",
    "        if type(key) == type(''):\n",
    "            key = key.upper()\n",
    "        \n",
    "        self.__dict__[key] = value\n",
    "        \n",
    "    def __getitem__(self, key):\n",
    "        \n",
    "        if type(key) == type(''):\n",
    "            key = key.upper()\n",
    "        \n",
    "        key = key.upper() if type(key) == type('') else key\n",
    "        if key in self.__dict__:\n",
    "            return self.__dict__[key]\n",
    "        else:\n",
    "            return 0\n",
    "        \n",
    "    def __repr__(self): # show the return value in the interactive prompt\n",
    "        return str(self.__dict__)\n",
    "    \n",
    "    def max_keys(self):\n",
    "        max_list = []\n",
    "        max_list = list(filter(lambda x: self.__dict__[x] == max(self.__dict__.values()), self.__dict__.keys()))\n",
    "        \n",
    "        return max_list\n",
    "    \n",
    "# What is filter()\n",
    "# https://www.geeksforgeeks.org/filter-in-python/"
   ]
  },
  {
   "cell_type": "code",
   "execution_count": 27,
   "metadata": {},
   "outputs": [
    {
     "data": {
      "text/plain": [
       "0"
      ]
     },
     "execution_count": 27,
     "metadata": {},
     "output_type": "execute_result"
    }
   ],
   "source": [
    "# q17\n",
    "\n",
    "c = Counter()\n",
    "c[\"apple\"]"
   ]
  },
  {
   "cell_type": "code",
   "execution_count": 28,
   "metadata": {},
   "outputs": [
    {
     "data": {
      "text/plain": [
       "2"
      ]
     },
     "execution_count": 28,
     "metadata": {},
     "output_type": "execute_result"
    }
   ],
   "source": [
    "#q18\n",
    "\n",
    "c = Counter()\n",
    "c[\"apple\"] += 1\n",
    "c[\"banana\"] += 1\n",
    "c[\"BANANA\"] += 1\n",
    "c[\"kiwi\"] += 2\n",
    "c[\"banana\"]"
   ]
  },
  {
   "cell_type": "code",
   "execution_count": 29,
   "metadata": {},
   "outputs": [
    {
     "data": {
      "text/plain": [
       "{'APPLE': 1, 'BANANA': 2, 'KIWI': 2}"
      ]
     },
     "execution_count": 29,
     "metadata": {},
     "output_type": "execute_result"
    }
   ],
   "source": [
    "# q19\n",
    "\n",
    "c"
   ]
  },
  {
   "cell_type": "code",
   "execution_count": 30,
   "metadata": {},
   "outputs": [
    {
     "data": {
      "text/plain": [
       "['BANANA', 'KIWI']"
      ]
     },
     "execution_count": 30,
     "metadata": {},
     "output_type": "execute_result"
    }
   ],
   "source": [
    "# q20 \n",
    "\n",
    "c.max_keys()"
   ]
  },
  {
   "cell_type": "code",
   "execution_count": null,
   "metadata": {},
   "outputs": [],
   "source": []
  },
  {
   "cell_type": "code",
   "execution_count": null,
   "metadata": {},
   "outputs": [],
   "source": []
  }
 ],
 "metadata": {
  "kernelspec": {
   "display_name": "Python 3",
   "language": "python",
   "name": "python3"
  },
  "language_info": {
   "codemirror_mode": {
    "name": "ipython",
    "version": 3
   },
   "file_extension": ".py",
   "mimetype": "text/x-python",
   "name": "python",
   "nbconvert_exporter": "python",
   "pygments_lexer": "ipython3",
   "version": "3.6.9"
  }
 },
 "nbformat": 4,
 "nbformat_minor": 4
}
