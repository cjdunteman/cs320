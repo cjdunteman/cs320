{
 "cells": [
  {
   "cell_type": "code",
   "execution_count": 13,
   "metadata": {},
   "outputs": [],
   "source": [
    "import requests, time"
   ]
  },
  {
   "cell_type": "code",
   "execution_count": 14,
   "metadata": {},
   "outputs": [],
   "source": [
    "def nice_get(url):\n",
    "    print(\"GET\", url)\n",
    "    r = requests.get(url)\n",
    "    if r.status_code == 429:\n",
    "        # told to backoff...\n",
    "        # we'll wait however long requested, then try once more\n",
    "\n",
    "        print(\"Response Headers Dict:\", r.headers)\n",
    "\n",
    "        # TODO: pull \"Retry-After\" from headers,\n",
    "        # convert to float, and pass to sleep call:\n",
    "        \n",
    "        wait_time = float(r.headers['Retry-After'])\n",
    "        time.sleep(wait_time)\n",
    "        \n",
    "        r = requests.get(url)\n",
    "    r.raise_for_status()\n",
    "    return r.text"
   ]
  },
  {
   "cell_type": "code",
   "execution_count": 15,
   "metadata": {},
   "outputs": [
    {
     "name": "stdout",
     "output_type": "stream",
     "text": [
      "GET http://35.238.195.196:5000/fruit?idx=1\n"
     ]
    },
    {
     "data": {
      "text/plain": [
       "'banana'"
      ]
     },
     "execution_count": 15,
     "metadata": {},
     "output_type": "execute_result"
    }
   ],
   "source": [
    "nice_get(\"http://35.238.195.196:5000/fruit?idx=1\")"
   ]
  },
  {
   "cell_type": "code",
   "execution_count": 16,
   "metadata": {},
   "outputs": [
    {
     "data": {
      "text/plain": [
       "'http://35.238.195.196:5000/fruit?idx=0'"
      ]
     },
     "execution_count": 16,
     "metadata": {},
     "output_type": "execute_result"
    }
   ],
   "source": [
    "def fruit_url(idx):\n",
    "    return \"http://35.238.195.196:5000/fruit?idx=\" + str(idx)\n",
    "fruit_url(0)"
   ]
  },
  {
   "cell_type": "code",
   "execution_count": 17,
   "metadata": {},
   "outputs": [
    {
     "name": "stdout",
     "output_type": "stream",
     "text": [
      "GET http://35.238.195.196:5000/fruit?idx=0\n",
      "Response Headers Dict: {'Retry-After': '1.672379732131958', 'Content-Type': 'text/html; charset=utf-8', 'Content-Length': '9', 'Server': 'Werkzeug/1.0.0 Python/3.6.9', 'Date': 'Mon, 23 Mar 2020 21:46:19 GMT'}\n",
      "GET http://35.238.195.196:5000/fruit?idx=1\n",
      "Response Headers Dict: {'Retry-After': '1.9961237907409668', 'Content-Type': 'text/html; charset=utf-8', 'Content-Length': '9', 'Server': 'Werkzeug/1.0.0 Python/3.6.9', 'Date': 'Mon, 23 Mar 2020 21:46:21 GMT'}\n",
      "GET http://35.238.195.196:5000/fruit?idx=2\n",
      "Response Headers Dict: {'Retry-After': '1.9961438179016113', 'Content-Type': 'text/html; charset=utf-8', 'Content-Length': '9', 'Server': 'Werkzeug/1.0.0 Python/3.6.9', 'Date': 'Mon, 23 Mar 2020 21:46:23 GMT'}\n",
      "GET http://35.238.195.196:5000/fruit?idx=3\n",
      "Response Headers Dict: {'Retry-After': '1.9956555366516113', 'Content-Type': 'text/html; charset=utf-8', 'Content-Length': '9', 'Server': 'Werkzeug/1.0.0 Python/3.6.9', 'Date': 'Mon, 23 Mar 2020 21:46:25 GMT'}\n",
      "GET http://35.238.195.196:5000/fruit?idx=4\n",
      "Response Headers Dict: {'Retry-After': '1.9961044788360596', 'Content-Type': 'text/html; charset=utf-8', 'Content-Length': '9', 'Server': 'Werkzeug/1.0.0 Python/3.6.9', 'Date': 'Mon, 23 Mar 2020 21:46:27 GMT'}\n",
      "GET http://35.238.195.196:5000/fruit?idx=5\n",
      "Response Headers Dict: {'Retry-After': '1.9960505962371826', 'Content-Type': 'text/html; charset=utf-8', 'Content-Length': '9', 'Server': 'Werkzeug/1.0.0 Python/3.6.9', 'Date': 'Mon, 23 Mar 2020 21:46:29 GMT'}\n",
      "GET http://35.238.195.196:5000/fruit?idx=6\n",
      "Response Headers Dict: {'Retry-After': '1.995575189590454', 'Content-Type': 'text/html; charset=utf-8', 'Content-Length': '9', 'Server': 'Werkzeug/1.0.0 Python/3.6.9', 'Date': 'Mon, 23 Mar 2020 21:46:31 GMT'}\n"
     ]
    },
    {
     "data": {
      "text/plain": [
       "['apple', 'banana', 'kiwi', 'cantaloupe', 'berries', 'orange']"
      ]
     },
     "execution_count": 17,
     "metadata": {},
     "output_type": "execute_result"
    }
   ],
   "source": [
    "def grab_fruits():\n",
    "    fruits = []\n",
    "    i = 0\n",
    "    while True:\n",
    "        url = fruit_url(i)\n",
    "        fruit = nice_get(url)\n",
    "        if fruit != \"\":\n",
    "            fruits.append(fruit)\n",
    "        else:\n",
    "            return fruits\n",
    "        i += 1\n",
    "        \n",
    "grab_fruits()"
   ]
  },
  {
   "cell_type": "code",
   "execution_count": null,
   "metadata": {},
   "outputs": [],
   "source": []
  },
  {
   "cell_type": "code",
   "execution_count": null,
   "metadata": {},
   "outputs": [],
   "source": []
  }
 ],
 "metadata": {
  "kernelspec": {
   "display_name": "Python 3",
   "language": "python",
   "name": "python3"
  },
  "language_info": {
   "codemirror_mode": {
    "name": "ipython",
    "version": 3
   },
   "file_extension": ".py",
   "mimetype": "text/x-python",
   "name": "python",
   "nbconvert_exporter": "python",
   "pygments_lexer": "ipython3",
   "version": "3.6.9"
  }
 },
 "nbformat": 4,
 "nbformat_minor": 4
}
