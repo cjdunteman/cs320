{
 "cells": [
  {
   "cell_type": "code",
   "execution_count": 1,
   "metadata": {},
   "outputs": [],
   "source": [
    "from matplotlib import pyplot as plt"
   ]
  },
  {
   "cell_type": "code",
   "execution_count": 37,
   "metadata": {},
   "outputs": [
    {
     "data": {
      "image/png": "[encoded data removed]",
      "text/plain": [
       "<Figure size 432x288 with 2 Axes>"
      ]
     },
     "metadata": {
      "needs_background": "light"
     },
     "output_type": "display_data"
    }
   ],
   "source": [
    "# subplots returns some figure and axes\n",
    "fig, (ax1, ax2) = plt.subplots(ncols=2)\n",
    "ax2.set_xlim(-3, 1)\n",
    "\n",
    "def rel_circ(area, x, y):\n",
    "    # pass x, y, radius\n",
    "    p = plt.Circle((x, y), z, edgecolor=\"r\", linewidth=3, facecolor=\"none\")\n",
    "    area.add_artist(p)\n",
    "    \n",
    "def abs_circ(area, x, y):\n",
    "    # pass x, y, radius\n",
    "    p = plt.Circle((x, y), z, edgecolor=\"blue\", linewidth=3, facecolor=\"none\", transform=fig.dpi_scale_trans)\n",
    "    area.add_artist(p)\n",
    "    \n",
    "rel_circ(ax1, 0.5, 0.5)\n",
    "rel_circ(ax2, 0.5, 0.5)\n",
    "rel_circ(fig, 0.5, 0.5)\n",
    "\n",
    "abs_circ(fig, 0.5, 1)\n",
    "abs_circ(ax1, 0.5, 2)\n",
    "abs_circ(ax2, 0.5, 3)\n",
    "\n",
    "abs_circ(fig, 3.5, 2)"
   ]
  },
  {
   "cell_type": "code",
   "execution_count": 38,
   "metadata": {},
   "outputs": [
    {
     "data": {
      "text/html": [
       "<div>\n",
       "<style scoped>\n",
       "    .dataframe tbody tr th:only-of-type {\n",
       "        vertical-align: middle;\n",
       "    }\n",
       "\n",
       "    .dataframe tbody tr th {\n",
       "        vertical-align: top;\n",
       "    }\n",
       "\n",
       "    .dataframe thead th {\n",
       "        text-align: right;\n",
       "    }\n",
       "</style>\n",
       "<table border=\"1\" class=\"dataframe\">\n",
       "  <thead>\n",
       "    <tr style=\"text-align: right;\">\n",
       "      <th></th>\n",
       "      <th>x</th>\n",
       "      <th>y</th>\n",
       "    </tr>\n",
       "  </thead>\n",
       "  <tbody>\n",
       "    <tr>\n",
       "      <th>0</th>\n",
       "      <td>0.1</td>\n",
       "      <td>0.4</td>\n",
       "    </tr>\n",
       "    <tr>\n",
       "      <th>1</th>\n",
       "      <td>0.2</td>\n",
       "      <td>0.2</td>\n",
       "    </tr>\n",
       "    <tr>\n",
       "      <th>2</th>\n",
       "      <td>0.3</td>\n",
       "      <td>0.1</td>\n",
       "    </tr>\n",
       "    <tr>\n",
       "      <th>3</th>\n",
       "      <td>0.4</td>\n",
       "      <td>0.3</td>\n",
       "    </tr>\n",
       "  </tbody>\n",
       "</table>\n",
       "</div>"
      ],
      "text/plain": [
       "     x    y\n",
       "0  0.1  0.4\n",
       "1  0.2  0.2\n",
       "2  0.3  0.1\n",
       "3  0.4  0.3"
      ]
     },
     "execution_count": 38,
     "metadata": {},
     "output_type": "execute_result"
    }
   ],
   "source": [
    "import pandas as pd\n",
    "\n",
    "df = pd.DataFrame([\n",
    "    {\"x\":0.1, \"y\":0.4},\n",
    "    {\"x\":0.2, \"y\":0.2},\n",
    "    {\"x\":0.3, \"y\":0.1},\n",
    "    {\"x\":0.4, \"y\":0.3}\n",
    "])\n",
    "df"
   ]
  },
  {
   "cell_type": "code",
   "execution_count": 44,
   "metadata": {},
   "outputs": [
    {
     "name": "stdout",
     "output_type": "stream",
     "text": [
      "[[1.12159091 1.708     ]\n",
      " [1.36818182 1.104     ]\n",
      " [1.61477273 0.802     ]\n",
      " [1.86136364 1.406     ]]\n"
     ]
    },
    {
     "data": {
      "image/png": "[encoded data removed]",
      "text/plain": [
       "<Figure size 504x288 with 2 Axes>"
      ]
     },
     "metadata": {
      "needs_background": "light"
     },
     "output_type": "display_data"
    }
   ],
   "source": [
    "fig, (ax1, ax2) = plt.subplots(ncols=2, figsize=(7, 4))\n",
    "ax2.set_xlim(0.1, 0.6)\n",
    "\n",
    "points1 = ax1.transData.transform(df[[\"x\", \"y\"]].values) / fig.dpi\n",
    "points2 = ax2.transData.transform(df[[\"x\", \"y\"]].values) / fig.dpi\n",
    "print(points1)\n",
    "\n",
    "def scatter(ax, points, color):\n",
    "    for x, y in points:\n",
    "        p = plt.Circle((x, y), 0.1, facecolor=color,\n",
    "                       transform=fig.dpi_scale_trans)\n",
    "        ax.add_artist(p)\n",
    "\n",
    "scatter(ax1, points1, \"blue\")\n",
    "scatter(ax2, points2, \"black\")"
   ]
  },
  {
   "cell_type": "code",
   "execution_count": null,
   "metadata": {},
   "outputs": [],
   "source": []
  }
 ],
 "metadata": {
  "kernelspec": {
   "display_name": "Python 3",
   "language": "python",
   "name": "python3"
  },
  "language_info": {
   "codemirror_mode": {
    "name": "ipython",
    "version": 3
   },
   "file_extension": ".py",
   "mimetype": "text/x-python",
   "name": "python",
   "nbconvert_exporter": "python",
   "pygments_lexer": "ipython3",
   "version": "3.6.9"
  }
 },
 "nbformat": 4,
 "nbformat_minor": 4
}
