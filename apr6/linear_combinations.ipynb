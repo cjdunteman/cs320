{
 "cells": [
  {
   "cell_type": "code",
   "execution_count": 4,
   "metadata": {},
   "outputs": [
    {
     "data": {
      "text/plain": [
       "array([[ 97.],\n",
       "       [198.],\n",
       "       [299.]])"
      ]
     },
     "execution_count": 4,
     "metadata": {},
     "output_type": "execute_result"
    }
   ],
   "source": [
    "import numpy as np\n",
    "\n",
    "A = np.array([\n",
    "    [100,10,3],\n",
    "    [200,10,2],\n",
    "    [300,10,1]\n",
    "])\n",
    "\n",
    "def col_dot(M, v):\n",
    "    col_sum = np.zeros((len(M), 1))\n",
    "    for col_idx in range(M.shape[1]):\n",
    "        col = M[:, col_idx:col_idx+1] * v[col_idx,0]\n",
    "        #print(col, \"\\n\")\n",
    "        col_sum += col\n",
    "    return col_sum\n",
    "\n",
    "x = np.array([1,0,-1]).reshape(-1,1) # TODO\n",
    "col_dot(A, x)"
   ]
  },
  {
   "cell_type": "code",
   "execution_count": null,
   "metadata": {},
   "outputs": [],
   "source": []
  }
 ],
 "metadata": {
  "kernelspec": {
   "display_name": "Python 3",
   "language": "python",
   "name": "python3"
  },
  "language_info": {
   "codemirror_mode": {
    "name": "ipython",
    "version": 3
   },
   "file_extension": ".py",
   "mimetype": "text/x-python",
   "name": "python",
   "nbconvert_exporter": "python",
   "pygments_lexer": "ipython3",
   "version": "3.6.9"
  }
 },
 "nbformat": 4,
 "nbformat_minor": 4
}
