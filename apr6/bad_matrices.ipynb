{
 "cells": [
  {
   "cell_type": "code",
   "execution_count": 10,
   "metadata": {},
   "outputs": [
    {
     "name": "stdout",
     "output_type": "stream",
     "text": [
      "b (outputs): [[3]\n",
      " [3]\n",
      " [4]]\n",
      "x coefficients: [[-1.]\n",
      " [ 0.]\n",
      " [ 1.]]\n",
      "model works like mystery! [[3.]]\n",
      "And we can call it with new values! [[6.]]\n"
     ]
    }
   ],
   "source": [
    "import numpy as np\n",
    "\n",
    "def mystery(row):\n",
    "    # pretend we can't see this code\n",
    "    return row[2] - row[0]\n",
    "\n",
    "A = np.array([\n",
    "    [1,9,4],\n",
    "    [1,10,4],\n",
    "    [1,10,5],\n",
    "    # [1,10,4], # error\n",
    "    # [2,19,8], # error\n",
    "])\n",
    "b = np.array([[mystery(row)] for row in A])\n",
    "print(\"b (outputs):\", b)\n",
    "\n",
    "x = np.linalg.solve(A, b)\n",
    "print(\"x coefficients:\", x)\n",
    "\n",
    "def model(row):\n",
    "    return row.dot(x)\n",
    "\n",
    "print(\"model works like mystery!\", model(np.array([[1,9,4]])))\n",
    "print(\"And we can call it with new values!\", model(np.array([[4,5,10]])))"
   ]
  },
  {
   "cell_type": "code",
   "execution_count": null,
   "metadata": {},
   "outputs": [],
   "source": []
  },
  {
   "cell_type": "code",
   "execution_count": null,
   "metadata": {},
   "outputs": [],
   "source": []
  }
 ],
 "metadata": {
  "kernelspec": {
   "display_name": "Python 3",
   "language": "python",
   "name": "python3"
  },
  "language_info": {
   "codemirror_mode": {
    "name": "ipython",
    "version": 3
   },
   "file_extension": ".py",
   "mimetype": "text/x-python",
   "name": "python",
   "nbconvert_exporter": "python",
   "pygments_lexer": "ipython3",
   "version": "3.6.9"
  }
 },
 "nbformat": 4,
 "nbformat_minor": 4
}
