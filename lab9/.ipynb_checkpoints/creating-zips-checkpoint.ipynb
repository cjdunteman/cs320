{
 "cells": [
  {
   "cell_type": "code",
   "execution_count": 1,
   "metadata": {},
   "outputs": [],
   "source": [
    "from zipfile import ZipFile, ZIP_STORED, ZIP_DEFLATED\n",
    "\n",
    "with ZipFile(\"new.zip\", \"w\") as zf:\n",
    "    with zf.open(\"inside.txt\", \"w\") as f:\n",
    "        f.write(bytes(\"hello world!\\n\", encoding=\"utf-8\"))"
   ]
  },
  {
   "cell_type": "code",
   "execution_count": 2,
   "metadata": {},
   "outputs": [
    {
     "name": "stdout",
     "output_type": "stream",
     "text": [
      "<class 'bytes'>\n",
      "b'hello'\n"
     ]
    }
   ],
   "source": [
    "# encoding is converting strings to bytes\n",
    "s = \"hello\"\n",
    "b = bytes(s, encoding=\"utf-8\")\n",
    "print(type(b))\n",
    "print(b)"
   ]
  },
  {
   "cell_type": "code",
   "execution_count": 3,
   "metadata": {},
   "outputs": [],
   "source": [
    "from zipfile import ZipFile, ZIP_STORED, ZIP_DEFLATED\n",
    "from io import TextIOWrapper\n",
    "import csv\n",
    "\n",
    "with ZipFile(\"new.zip\", \"w\") as zf:\n",
    "    with zf.open(\"inside.csv\", \"w\") as raw:\n",
    "        with TextIOWrapper(raw) as f:\n",
    "            writer = csv.writer(f)\n",
    "            writer.writerow([\"x\", \"y\"]) # header\n",
    "            writer.writerow([\"1\", \"2\"])\n",
    "            writer.writerow([\"3\", \"4\"])"
   ]
  },
  {
   "cell_type": "code",
   "execution_count": 4,
   "metadata": {},
   "outputs": [],
   "source": [
    "from zipfile import ZipFile, ZIP_STORED, ZIP_DEFLATED\n",
    "from io import TextIOWrapper\n",
    "import csv, time\n",
    "\n",
    "def test_compression(zip_name, compression_mode):\n",
    "    with ZipFile(zip_name, \"w\", compression=compression_mode) as zf:\n",
    "        with zf.open(\"inside.csv\", \"w\") as raw:\n",
    "            with TextIOWrapper(raw) as f:\n",
    "                writer = csv.writer(f)\n",
    "                writer.writerow([\"x\", \"y\"]) # header\n",
    "                for i in range(5000000):\n",
    "                    writer.writerow([str(i*2), str(i*2+1)])"
   ]
  },
  {
   "cell_type": "code",
   "execution_count": 5,
   "metadata": {},
   "outputs": [
    {
     "name": "stdout",
     "output_type": "stream",
     "text": [
      "9.853054523468018\n"
     ]
    }
   ],
   "source": [
    "t0 = time.time()\n",
    "# ZIP_DEFLATED is compressed\n",
    "test_compression(\"deflated.zip\", ZIP_DEFLATED)\n",
    "t1 = time.time()\n",
    "print(t1-t0)\n",
    "\n",
    "# Slower but takes up less megabytes"
   ]
  },
  {
   "cell_type": "code",
   "execution_count": 6,
   "metadata": {},
   "outputs": [
    {
     "name": "stdout",
     "output_type": "stream",
     "text": [
      "7.029126167297363\n"
     ]
    }
   ],
   "source": [
    "t0 = time.time()\n",
    "# ZIP_STORED is non-compressed\n",
    "test_compression(\"regular.zip\", ZIP_STORED)\n",
    "t1 = time.time()\n",
    "print(t1-t0)\n",
    "\n",
    "# Faster but takes up more megabytes"
   ]
  },
  {
   "cell_type": "code",
   "execution_count": null,
   "metadata": {},
   "outputs": [],
   "source": []
  }
 ],
 "metadata": {
  "kernelspec": {
   "display_name": "Python 3",
   "language": "python",
   "name": "python3"
  },
  "language_info": {
   "codemirror_mode": {
    "name": "ipython",
    "version": 3
   },
   "file_extension": ".py",
   "mimetype": "text/x-python",
   "name": "python",
   "nbconvert_exporter": "python",
   "pygments_lexer": "ipython3",
   "version": "3.6.9"
  }
 },
 "nbformat": 4,
 "nbformat_minor": 4
}
