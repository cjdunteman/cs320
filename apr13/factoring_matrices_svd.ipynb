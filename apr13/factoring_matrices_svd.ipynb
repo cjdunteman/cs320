{
 "cells": [
  {
   "cell_type": "code",
   "execution_count": 3,
   "metadata": {},
   "outputs": [],
   "source": [
    "import numpy as np\n",
    "\n",
    "u = np.array([[-0.21483724,  0.88723069,  0.40824829],\n",
    "              [-0.52058739,  0.24964395, -0.81649658],\n",
    "              [-0.82633754, -0.38794278,  0.40824829]])\n",
    "s = np.array([16.84810335261421, 1.06836951455471, 0])\n",
    "vt = np.array([[-0.47967118, -0.57236779, -0.66506441],\n",
    "               [-0.77669099, -0.07568647,  0.62531805],\n",
    "               [-0.40824829,  0.81649658, -0.40824829]])"
   ]
  },
  {
   "cell_type": "code",
   "execution_count": 6,
   "metadata": {},
   "outputs": [
    {
     "data": {
      "text/plain": [
       "array([[1., 2., 3.],\n",
       "       [4., 5., 6.],\n",
       "       [7., 8., 9.]])"
      ]
     },
     "execution_count": 6,
     "metadata": {},
     "output_type": "execute_result"
    }
   ],
   "source": [
    "A = (u*s)@vt # option 1\n",
    "A = (u*s).dot(vt) # option 2\n",
    "np.round(A, 2)"
   ]
  },
  {
   "cell_type": "code",
   "execution_count": 7,
   "metadata": {},
   "outputs": [
    {
     "data": {
      "text/plain": [
       "array([[11.75419509],\n",
       "       [10.35715557],\n",
       "       [12.76471   ]])"
      ]
     },
     "execution_count": 7,
     "metadata": {},
     "output_type": "execute_result"
    }
   ],
   "source": [
    "A = np.array([[4, 1, 7],\n",
    "              [1, 4, 3],\n",
    "              [7, 3, 4]])\n",
    "\n",
    "v1 = np.array([0.68777769, 0.4381872, 0.69928217]).reshape(-1,1)\n",
    "v2 = np.array([-0.1017017, -0.77186858, 0.29665168]).reshape(-1,1)\n",
    "v3 = np.array([0.6627402, 0.20526185, -0.72016873]).reshape(-1,1)\n",
    "v4 = np.array([0.89036881, -0.78460023, 0.30786775]).reshape(-1,1)\n",
    "\n",
    "A.dot(v1) / v1\n",
    "# v1 is not an eigenvector"
   ]
  },
  {
   "cell_type": "code",
   "execution_count": 8,
   "metadata": {},
   "outputs": [
    {
     "data": {
      "text/plain": [
       "array([[-8.82862705],\n",
       "       [ 2.9787726 ],\n",
       "       [-6.2056312 ]])"
      ]
     },
     "execution_count": 8,
     "metadata": {},
     "output_type": "execute_result"
    }
   ],
   "source": [
    "A.dot(v2) / v2"
   ]
  },
  {
   "cell_type": "code",
   "execution_count": 9,
   "metadata": {},
   "outputs": [
    {
     "data": {
      "text/plain": [
       "array([[-3.29685518],\n",
       "       [-3.29685516],\n",
       "       [-3.29685521]])"
      ]
     },
     "execution_count": 9,
     "metadata": {},
     "output_type": "execute_result"
    }
   ],
   "source": [
    "A.dot(v3) / v3\n",
    "# v3 is an eigenvector with eigenvalue 3.29685518"
   ]
  },
  {
   "cell_type": "code",
   "execution_count": 1,
   "metadata": {},
   "outputs": [
    {
     "data": {
      "text/html": [
       "<div>\n",
       "<style scoped>\n",
       "    .dataframe tbody tr th:only-of-type {\n",
       "        vertical-align: middle;\n",
       "    }\n",
       "\n",
       "    .dataframe tbody tr th {\n",
       "        vertical-align: top;\n",
       "    }\n",
       "\n",
       "    .dataframe thead th {\n",
       "        text-align: right;\n",
       "    }\n",
       "</style>\n",
       "<table border=\"1\" class=\"dataframe\">\n",
       "  <thead>\n",
       "    <tr style=\"text-align: right;\">\n",
       "      <th></th>\n",
       "      <th>JerseyNumber</th>\n",
       "      <th>Age</th>\n",
       "      <th>Wage</th>\n",
       "      <th>Value</th>\n",
       "      <th>PreferredFootInt</th>\n",
       "    </tr>\n",
       "  </thead>\n",
       "  <tbody>\n",
       "    <tr>\n",
       "      <th>0</th>\n",
       "      <td>1</td>\n",
       "      <td>25</td>\n",
       "      <td>8.0</td>\n",
       "      <td>900.0</td>\n",
       "      <td>1</td>\n",
       "    </tr>\n",
       "    <tr>\n",
       "      <th>1</th>\n",
       "      <td>26</td>\n",
       "      <td>18</td>\n",
       "      <td>1.0</td>\n",
       "      <td>450.0</td>\n",
       "      <td>1</td>\n",
       "    </tr>\n",
       "    <tr>\n",
       "      <th>2</th>\n",
       "      <td>30</td>\n",
       "      <td>18</td>\n",
       "      <td>1.0</td>\n",
       "      <td>130.0</td>\n",
       "      <td>1</td>\n",
       "    </tr>\n",
       "    <tr>\n",
       "      <th>3</th>\n",
       "      <td>17</td>\n",
       "      <td>23</td>\n",
       "      <td>22.0</td>\n",
       "      <td>2300.0</td>\n",
       "      <td>1</td>\n",
       "    </tr>\n",
       "    <tr>\n",
       "      <th>4</th>\n",
       "      <td>23</td>\n",
       "      <td>33</td>\n",
       "      <td>6.0</td>\n",
       "      <td>425.0</td>\n",
       "      <td>1</td>\n",
       "    </tr>\n",
       "    <tr>\n",
       "      <th>5</th>\n",
       "      <td>31</td>\n",
       "      <td>31</td>\n",
       "      <td>3.0</td>\n",
       "      <td>325.0</td>\n",
       "      <td>1</td>\n",
       "    </tr>\n",
       "    <tr>\n",
       "      <th>6</th>\n",
       "      <td>14</td>\n",
       "      <td>24</td>\n",
       "      <td>3.0</td>\n",
       "      <td>600.0</td>\n",
       "      <td>1</td>\n",
       "    </tr>\n",
       "    <tr>\n",
       "      <th>7</th>\n",
       "      <td>8</td>\n",
       "      <td>21</td>\n",
       "      <td>3.0</td>\n",
       "      <td>240.0</td>\n",
       "      <td>1</td>\n",
       "    </tr>\n",
       "    <tr>\n",
       "      <th>8</th>\n",
       "      <td>21</td>\n",
       "      <td>31</td>\n",
       "      <td>7.0</td>\n",
       "      <td>600.0</td>\n",
       "      <td>1</td>\n",
       "    </tr>\n",
       "    <tr>\n",
       "      <th>9</th>\n",
       "      <td>12</td>\n",
       "      <td>20</td>\n",
       "      <td>1.0</td>\n",
       "      <td>230.0</td>\n",
       "      <td>1</td>\n",
       "    </tr>\n",
       "    <tr>\n",
       "      <th>10</th>\n",
       "      <td>9</td>\n",
       "      <td>20</td>\n",
       "      <td>4.0</td>\n",
       "      <td>450.0</td>\n",
       "      <td>0</td>\n",
       "    </tr>\n",
       "    <tr>\n",
       "      <th>11</th>\n",
       "      <td>28</td>\n",
       "      <td>20</td>\n",
       "      <td>5.0</td>\n",
       "      <td>1600.0</td>\n",
       "      <td>0</td>\n",
       "    </tr>\n",
       "    <tr>\n",
       "      <th>12</th>\n",
       "      <td>10</td>\n",
       "      <td>25</td>\n",
       "      <td>16.0</td>\n",
       "      <td>10500.0</td>\n",
       "      <td>0</td>\n",
       "    </tr>\n",
       "    <tr>\n",
       "      <th>13</th>\n",
       "      <td>13</td>\n",
       "      <td>22</td>\n",
       "      <td>3.0</td>\n",
       "      <td>1000.0</td>\n",
       "      <td>0</td>\n",
       "    </tr>\n",
       "    <tr>\n",
       "      <th>14</th>\n",
       "      <td>9</td>\n",
       "      <td>30</td>\n",
       "      <td>4.0</td>\n",
       "      <td>625.0</td>\n",
       "      <td>0</td>\n",
       "    </tr>\n",
       "    <tr>\n",
       "      <th>15</th>\n",
       "      <td>34</td>\n",
       "      <td>34</td>\n",
       "      <td>7.0</td>\n",
       "      <td>2700.0</td>\n",
       "      <td>0</td>\n",
       "    </tr>\n",
       "    <tr>\n",
       "      <th>16</th>\n",
       "      <td>29</td>\n",
       "      <td>21</td>\n",
       "      <td>1.0</td>\n",
       "      <td>575.0</td>\n",
       "      <td>0</td>\n",
       "    </tr>\n",
       "    <tr>\n",
       "      <th>17</th>\n",
       "      <td>25</td>\n",
       "      <td>20</td>\n",
       "      <td>1.0</td>\n",
       "      <td>500.0</td>\n",
       "      <td>0</td>\n",
       "    </tr>\n",
       "    <tr>\n",
       "      <th>18</th>\n",
       "      <td>22</td>\n",
       "      <td>29</td>\n",
       "      <td>3.0</td>\n",
       "      <td>700.0</td>\n",
       "      <td>0</td>\n",
       "    </tr>\n",
       "    <tr>\n",
       "      <th>19</th>\n",
       "      <td>3</td>\n",
       "      <td>31</td>\n",
       "      <td>3.0</td>\n",
       "      <td>425.0</td>\n",
       "      <td>0</td>\n",
       "    </tr>\n",
       "  </tbody>\n",
       "</table>\n",
       "</div>"
      ],
      "text/plain": [
       "    JerseyNumber  Age  Wage    Value  PreferredFootInt\n",
       "0              1   25   8.0    900.0                 1\n",
       "1             26   18   1.0    450.0                 1\n",
       "2             30   18   1.0    130.0                 1\n",
       "3             17   23  22.0   2300.0                 1\n",
       "4             23   33   6.0    425.0                 1\n",
       "5             31   31   3.0    325.0                 1\n",
       "6             14   24   3.0    600.0                 1\n",
       "7              8   21   3.0    240.0                 1\n",
       "8             21   31   7.0    600.0                 1\n",
       "9             12   20   1.0    230.0                 1\n",
       "10             9   20   4.0    450.0                 0\n",
       "11            28   20   5.0   1600.0                 0\n",
       "12            10   25  16.0  10500.0                 0\n",
       "13            13   22   3.0   1000.0                 0\n",
       "14             9   30   4.0    625.0                 0\n",
       "15            34   34   7.0   2700.0                 0\n",
       "16            29   21   1.0    575.0                 0\n",
       "17            25   20   1.0    500.0                 0\n",
       "18            22   29   3.0    700.0                 0\n",
       "19             3   31   3.0    425.0                 0"
      ]
     },
     "execution_count": 1,
     "metadata": {},
     "output_type": "execute_result"
    }
   ],
   "source": [
    "import numpy as np\n",
    "import pandas as pd\n",
    "\n",
    "rows = [['M. Dupé', 1, 25, 'Right', 8.0, 900.0],\n",
    "       ['N. Fernández', 26, 18, 'Right', 1.0, 450.0],\n",
    "       ['P. Kalambayi', 30, 18, 'Right', 1.0, 130.0],\n",
    "       ['P. McNair', 17, 23, 'Right', 22.0, 2300.0],\n",
    "       ['G. Bojanich', 23, 33, 'Right', 6.0, 425.0],\n",
    "       ['A. Kofler', 31, 31, 'Right', 3.0, 325.0],\n",
    "       ['N. Lavanchy', 14, 24, 'Right', 3.0, 600.0],\n",
    "       ['O. Al Khalaf', 8, 21, 'Right', 3.0, 240.0],\n",
    "       ['J. Sills', 21, 31, 'Right', 7.0, 600.0],\n",
    "       ['B. Fox', 12, 20, 'Right', 1.0, 230.0],\n",
    "       ['S. Smith', 9, 20, 'Left', 4.0, 450.0],\n",
    "       ['E. Ocansey', 28, 20, 'Left', 5.0, 1600.0],\n",
    "       ['F. Kostić', 10, 25, 'Left', 16.0, 10500.0],\n",
    "       ['M. Ullmann', 13, 22, 'Left', 3.0, 1000.0],\n",
    "       ['R. Taylor', 9, 30, 'Left', 4.0, 625.0],\n",
    "       ['N. Vikonis', 34, 34, 'Left', 7.0, 2700.0],\n",
    "       ['J. Aguirre', 29, 21, 'Left', 1.0, 575.0],\n",
    "       ['J. Konings', 25, 20, 'Left', 1.0, 500.0],\n",
    "       ['J. Raitala', 22, 29, 'Left', 3.0, 700.0],\n",
    "       ['A. Taylor', 3, 31, 'Left', 3.0, 425.0]]\n",
    "df = pd.DataFrame.from_records(rows, columns=[\"Name\", \"JerseyNumber\", \"Age\", \"PreferredFoot\", \"Wage\", \"Value\"])\n",
    "df[\"PreferredFootInt\"] = (df[\"PreferredFoot\"] == \"Right\").astype(int)\n",
    "df = df[[\"JerseyNumber\", \"Age\", \"Wage\", \"Value\", \"PreferredFootInt\"]]\n",
    "df"
   ]
  },
  {
   "cell_type": "code",
   "execution_count": 2,
   "metadata": {},
   "outputs": [
    {
     "data": {
      "text/plain": [
       "array([0.98439685, 0.99521466, 0.99836246, 0.999822  , 1.        ])"
      ]
     },
     "execution_count": 2,
     "metadata": {},
     "output_type": "execute_result"
    }
   ],
   "source": [
    "# How many principal components are necessary to capture at least 99% of the variance? \n",
    "# Run the following to find out (notice we only care about the absolute \n",
    "# values of the eigenvalues in s -- we can ignore the other return values with _):\n",
    "\n",
    "_,s,_ = np.linalg.svd(df)\n",
    "s = np.array(sorted(np.abs(s), reverse=True))\n",
    "s.cumsum() / s.sum()\n",
    "# 2 components, because 1 only gets us to 0.98439685, but two components together gets us to 0.99521466."
   ]
  },
  {
   "cell_type": "code",
   "execution_count": null,
   "metadata": {},
   "outputs": [],
   "source": []
  }
 ],
 "metadata": {
  "kernelspec": {
   "display_name": "Python 3",
   "language": "python",
   "name": "python3"
  },
  "language_info": {
   "codemirror_mode": {
    "name": "ipython",
    "version": 3
   },
   "file_extension": ".py",
   "mimetype": "text/x-python",
   "name": "python",
   "nbconvert_exporter": "python",
   "pygments_lexer": "ipython3",
   "version": "3.6.9"
  }
 },
 "nbformat": 4,
 "nbformat_minor": 4
}
