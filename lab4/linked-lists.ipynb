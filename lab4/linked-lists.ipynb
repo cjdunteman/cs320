{
 "cells": [
  {
   "cell_type": "code",
   "execution_count": 34,
   "metadata": {},
   "outputs": [],
   "source": [
    "from collections import abc\n",
    "\n",
    "class Node(abc.Sequence):\n",
    "    def __init__(self, val):\n",
    "        self.val = val\n",
    "        self.next = None\n",
    "    def __len__(self):\n",
    "        length = 0\n",
    "        if self.next == None:\n",
    "            # base case: I'm the only Node!  Length must be 1\n",
    "            return 1\n",
    "        else:\n",
    "            # recursive case: total length is the length of next plus 1\n",
    "            return len(self.next) + 1\n",
    "    def __repr__(self):\n",
    "        if self.next == None:\n",
    "            return repr(self.val)\n",
    "        else:\n",
    "            return repr(self.val)+\",\"+repr(self.next)\n",
    "    def __getitem__(self, idx):\n",
    "        if idx < 0: # check if we have a negative index\n",
    "            idx = len(self) + idx\n",
    "        if idx == 0:\n",
    "            # base case\n",
    "            return self.val\n",
    "        if self.next == None:\n",
    "            raise IndexError()\n",
    "        else:\n",
    "            # recursive case\n",
    "            return self.next[idx-1]\n",
    "    def append(self, val):\n",
    "        last_node = self\n",
    "        while last_node.next != None:\n",
    "            last_node = last_node.next\n",
    "        last_node.next = Node(val)\n",
    "\n",
    "L = Node(3)\n",
    "L2 = Node(5)\n",
    "L3 = Node(7)\n",
    "L.next = L2\n",
    "L2.next = L3"
   ]
  },
  {
   "cell_type": "code",
   "execution_count": 35,
   "metadata": {},
   "outputs": [
    {
     "data": {
      "text/plain": [
       "3"
      ]
     },
     "execution_count": 35,
     "metadata": {},
     "output_type": "execute_result"
    }
   ],
   "source": [
    "# Index 0\n",
    "L.val"
   ]
  },
  {
   "cell_type": "code",
   "execution_count": 36,
   "metadata": {},
   "outputs": [
    {
     "data": {
      "text/plain": [
       "5"
      ]
     },
     "execution_count": 36,
     "metadata": {},
     "output_type": "execute_result"
    }
   ],
   "source": [
    "# Index 1\n",
    "L.next.val"
   ]
  },
  {
   "cell_type": "code",
   "execution_count": 37,
   "metadata": {},
   "outputs": [
    {
     "data": {
      "text/plain": [
       "7"
      ]
     },
     "execution_count": 37,
     "metadata": {},
     "output_type": "execute_result"
    }
   ],
   "source": [
    "# Index 2\n",
    "L.next.next.val"
   ]
  },
  {
   "cell_type": "code",
   "execution_count": 38,
   "metadata": {},
   "outputs": [
    {
     "data": {
      "text/plain": [
       "3"
      ]
     },
     "execution_count": 38,
     "metadata": {},
     "output_type": "execute_result"
    }
   ],
   "source": [
    "len(L)"
   ]
  },
  {
   "cell_type": "code",
   "execution_count": 39,
   "metadata": {},
   "outputs": [
    {
     "data": {
      "text/plain": [
       "'3,5,7'"
      ]
     },
     "execution_count": 39,
     "metadata": {},
     "output_type": "execute_result"
    }
   ],
   "source": [
    "repr(L)"
   ]
  },
  {
   "cell_type": "code",
   "execution_count": 40,
   "metadata": {},
   "outputs": [],
   "source": [
    "# getitem(0)"
   ]
  },
  {
   "cell_type": "code",
   "execution_count": 41,
   "metadata": {},
   "outputs": [
    {
     "name": "stdout",
     "output_type": "stream",
     "text": [
      "3\n",
      "5\n",
      "7\n"
     ]
    }
   ],
   "source": [
    "for x in L:\n",
    "    print(x)"
   ]
  },
  {
   "cell_type": "code",
   "execution_count": 42,
   "metadata": {},
   "outputs": [],
   "source": [
    "# L.getitem(-1)"
   ]
  },
  {
   "cell_type": "code",
   "execution_count": 43,
   "metadata": {},
   "outputs": [
    {
     "name": "stdout",
     "output_type": "stream",
     "text": [
      "'A','B','C'\n"
     ]
    }
   ],
   "source": [
    "L = Node(\"A\")\n",
    "L.append(\"B\")\n",
    "L.append(\"C\")\n",
    "print(L)"
   ]
  },
  {
   "cell_type": "code",
   "execution_count": 44,
   "metadata": {},
   "outputs": [
    {
     "name": "stdout",
     "output_type": "stream",
     "text": [
      "List: 'A','B','B','C','D'\n",
      "A is at index 0\n",
      "C is at index 3\n",
      "B occurs 2 times\n",
      "D occurs 1 times\n"
     ]
    }
   ],
   "source": [
    "L = Node(\"A\")\n",
    "L.append(\"B\")\n",
    "L.append(\"B\")\n",
    "L.append(\"C\")\n",
    "L.append(\"D\")\n",
    "print(\"List:\", L)\n",
    "print(\"A is at index\", L.index(\"A\"))\n",
    "print(\"C is at index\", L.index(\"C\"))\n",
    "print(\"B occurs\", L.count(\"B\"), \"times\")\n",
    "print(\"D occurs\", L.count(\"D\"), \"times\")"
   ]
  },
  {
   "cell_type": "code",
   "execution_count": null,
   "metadata": {},
   "outputs": [],
   "source": []
  },
  {
   "cell_type": "code",
   "execution_count": null,
   "metadata": {},
   "outputs": [],
   "source": []
  }
 ],
 "metadata": {
  "kernelspec": {
   "display_name": "Python 3",
   "language": "python",
   "name": "python3"
  },
  "language_info": {
   "codemirror_mode": {
    "name": "ipython",
    "version": 3
   },
   "file_extension": ".py",
   "mimetype": "text/x-python",
   "name": "python",
   "nbconvert_exporter": "python",
   "pygments_lexer": "ipython3",
   "version": "3.6.9"
  }
 },
 "nbformat": 4,
 "nbformat_minor": 4
}
