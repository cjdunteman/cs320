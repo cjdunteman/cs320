{
 "cells": [
  {
   "cell_type": "code",
   "execution_count": 15,
   "metadata": {},
   "outputs": [],
   "source": [
    "from matplotlib import pyplot as plt\n",
    "from shapely.geometry import Polygon, Point\n",
    "from descartes import PolygonPatch"
   ]
  },
  {
   "cell_type": "code",
   "execution_count": 28,
   "metadata": {},
   "outputs": [],
   "source": [
    "def venn(a_label, a_set, b_label, b_set):\n",
    "    fig, ax = plt.subplots(figsize=(3, 2))\n",
    "    ax.set_xlim(0, 3)\n",
    "    ax.set_ylim(0, 2)\n",
    "    \n",
    "    qa = len(a_set.difference(b_set))\n",
    "    qb = len(b_set.difference(a_set))\n",
    "    qab = len(a_set.intersection(b_set))\n",
    "    q_max = max(qa, qb, qab)\n",
    "    \n",
    "    c1 = Point(1,1).buffer(1)\n",
    "    ax.text(1, 2, a_label, size=20, va=\"bottom\", ha=\"right\")\n",
    "    c2 = Point(2, 1).buffer(1)\n",
    "    ax.text(2, 2, b_label, size=20, va=\"bottom\", ha=\"left\")\n",
    "    A = c1.difference(c2)\n",
    "    B = c2.difference(c1)\n",
    "    AB = c1.intersection(c2)\n",
    "    \n",
    "    for quantity, area in [(qa, A), (qb, B), (qab, AB)]:\n",
    "        percent_of_max = quantity / q_max\n",
    "        bg_color = (1-percent_of_max)*0.6+0.4\n",
    "        ax.add_artist(PolygonPatch(area, facecolor=str(bg_color)))\n",
    "        ax.text(area.centroid.x, area.centroid.y, quantity, size=16)\n",
    "    plt.axis(\"off\")"
   ]
  },
  {
   "cell_type": "code",
   "execution_count": 29,
   "metadata": {},
   "outputs": [
    {
     "data": {
      "image/png": "[encoded data removed]",
      "text/plain": [
       "<Figure size 216x144 with 1 Axes>"
      ]
     },
     "metadata": {
      "needs_background": "light"
     },
     "output_type": "display_data"
    }
   ],
   "source": [
    "venn(\"pets\", {\"dogs\", \"snakes\", \"birds\"}, \"mammals\", {\"dogs\", \"cats\", \"whales\", \"gorillas\"})"
   ]
  },
  {
   "cell_type": "code",
   "execution_count": null,
   "metadata": {},
   "outputs": [],
   "source": []
  }
 ],
 "metadata": {
  "kernelspec": {
   "display_name": "Python 3",
   "language": "python",
   "name": "python3"
  },
  "language_info": {
   "codemirror_mode": {
    "name": "ipython",
    "version": 3
   },
   "file_extension": ".py",
   "mimetype": "text/x-python",
   "name": "python",
   "nbconvert_exporter": "python",
   "pygments_lexer": "ipython3",
   "version": "3.6.9"
  }
 },
 "nbformat": 4,
 "nbformat_minor": 4
}
