{
 "cells": [
  {
   "cell_type": "code",
   "execution_count": 1,
   "metadata": {},
   "outputs": [
    {
     "data": {
      "text/html": [
       "<div>\n",
       "<style scoped>\n",
       "    .dataframe tbody tr th:only-of-type {\n",
       "        vertical-align: middle;\n",
       "    }\n",
       "\n",
       "    .dataframe tbody tr th {\n",
       "        vertical-align: top;\n",
       "    }\n",
       "\n",
       "    .dataframe thead th {\n",
       "        text-align: right;\n",
       "    }\n",
       "</style>\n",
       "<table border=\"1\" class=\"dataframe\">\n",
       "  <thead>\n",
       "    <tr style=\"text-align: right;\">\n",
       "      <th></th>\n",
       "      <th>y</th>\n",
       "      <th>x</th>\n",
       "    </tr>\n",
       "  </thead>\n",
       "  <tbody>\n",
       "    <tr>\n",
       "      <th>0</th>\n",
       "      <td>-4.211312</td>\n",
       "      <td>4.704318</td>\n",
       "    </tr>\n",
       "    <tr>\n",
       "      <th>1</th>\n",
       "      <td>-0.434695</td>\n",
       "      <td>2.175788</td>\n",
       "    </tr>\n",
       "    <tr>\n",
       "      <th>2</th>\n",
       "      <td>3.761103</td>\n",
       "      <td>0.380135</td>\n",
       "    </tr>\n",
       "    <tr>\n",
       "      <th>3</th>\n",
       "      <td>-0.698163</td>\n",
       "      <td>1.255819</td>\n",
       "    </tr>\n",
       "    <tr>\n",
       "      <th>4</th>\n",
       "      <td>5.630255</td>\n",
       "      <td>0.346964</td>\n",
       "    </tr>\n",
       "  </tbody>\n",
       "</table>\n",
       "</div>"
      ],
      "text/plain": [
       "          y         x\n",
       "0 -4.211312  4.704318\n",
       "1 -0.434695  2.175788\n",
       "2  3.761103  0.380135\n",
       "3 -0.698163  1.255819\n",
       "4  5.630255  0.346964"
      ]
     },
     "execution_count": 1,
     "metadata": {},
     "output_type": "execute_result"
    }
   ],
   "source": [
    "import numpy as np\n",
    "import pandas as pd\n",
    "from sklearn.linear_model import LinearRegression as LR\n",
    "\n",
    "x = np.random.uniform(0.1,5,100)\n",
    "noise = np.random.normal(scale=1, size=x.size)\n",
    "y = (4-x)*(2-x)*(1-x) + noise\n",
    "df = pd.DataFrame({\"y\":y, \"x\":x})\n",
    "df.head()"
   ]
  },
  {
   "cell_type": "code",
   "execution_count": 2,
   "metadata": {},
   "outputs": [
    {
     "data": {
      "image/png": "[encoded data removed]",
      "text/plain": [
       "<Figure size 432x288 with 1 Axes>"
      ]
     },
     "metadata": {
      "needs_background": "light"
     },
     "output_type": "display_data"
    }
   ],
   "source": [
    "ax = df.plot.scatter(x=\"x\", y=\"y\")"
   ]
  },
  {
   "cell_type": "code",
   "execution_count": 4,
   "metadata": {},
   "outputs": [
    {
     "data": {
      "text/html": [
       "<div>\n",
       "<style scoped>\n",
       "    .dataframe tbody tr th:only-of-type {\n",
       "        vertical-align: middle;\n",
       "    }\n",
       "\n",
       "    .dataframe tbody tr th {\n",
       "        vertical-align: top;\n",
       "    }\n",
       "\n",
       "    .dataframe thead th {\n",
       "        text-align: right;\n",
       "    }\n",
       "</style>\n",
       "<table border=\"1\" class=\"dataframe\">\n",
       "  <thead>\n",
       "    <tr style=\"text-align: right;\">\n",
       "      <th></th>\n",
       "      <th>x</th>\n",
       "      <th>x^2</th>\n",
       "      <th>x^3</th>\n",
       "      <th>x^4</th>\n",
       "    </tr>\n",
       "  </thead>\n",
       "  <tbody>\n",
       "    <tr>\n",
       "      <th>0</th>\n",
       "      <td>4.704318</td>\n",
       "      <td>22.130607</td>\n",
       "      <td>104.109413</td>\n",
       "      <td>489.763779</td>\n",
       "    </tr>\n",
       "    <tr>\n",
       "      <th>1</th>\n",
       "      <td>2.175788</td>\n",
       "      <td>4.734055</td>\n",
       "      <td>10.300302</td>\n",
       "      <td>22.411276</td>\n",
       "    </tr>\n",
       "    <tr>\n",
       "      <th>2</th>\n",
       "      <td>0.380135</td>\n",
       "      <td>0.144502</td>\n",
       "      <td>0.054930</td>\n",
       "      <td>0.020881</td>\n",
       "    </tr>\n",
       "    <tr>\n",
       "      <th>3</th>\n",
       "      <td>1.255819</td>\n",
       "      <td>1.577082</td>\n",
       "      <td>1.980530</td>\n",
       "      <td>2.487188</td>\n",
       "    </tr>\n",
       "    <tr>\n",
       "      <th>4</th>\n",
       "      <td>0.346964</td>\n",
       "      <td>0.120384</td>\n",
       "      <td>0.041769</td>\n",
       "      <td>0.014492</td>\n",
       "    </tr>\n",
       "    <tr>\n",
       "      <th>...</th>\n",
       "      <td>...</td>\n",
       "      <td>...</td>\n",
       "      <td>...</td>\n",
       "      <td>...</td>\n",
       "    </tr>\n",
       "    <tr>\n",
       "      <th>95</th>\n",
       "      <td>1.508459</td>\n",
       "      <td>2.275449</td>\n",
       "      <td>3.432421</td>\n",
       "      <td>5.177666</td>\n",
       "    </tr>\n",
       "    <tr>\n",
       "      <th>96</th>\n",
       "      <td>0.620923</td>\n",
       "      <td>0.385545</td>\n",
       "      <td>0.239394</td>\n",
       "      <td>0.148645</td>\n",
       "    </tr>\n",
       "    <tr>\n",
       "      <th>97</th>\n",
       "      <td>0.709367</td>\n",
       "      <td>0.503202</td>\n",
       "      <td>0.356955</td>\n",
       "      <td>0.253212</td>\n",
       "    </tr>\n",
       "    <tr>\n",
       "      <th>98</th>\n",
       "      <td>2.154429</td>\n",
       "      <td>4.641565</td>\n",
       "      <td>9.999923</td>\n",
       "      <td>21.544127</td>\n",
       "    </tr>\n",
       "    <tr>\n",
       "      <th>99</th>\n",
       "      <td>2.343738</td>\n",
       "      <td>5.493107</td>\n",
       "      <td>12.874403</td>\n",
       "      <td>30.174225</td>\n",
       "    </tr>\n",
       "  </tbody>\n",
       "</table>\n",
       "<p>100 rows × 4 columns</p>\n",
       "</div>"
      ],
      "text/plain": [
       "           x        x^2         x^3         x^4\n",
       "0   4.704318  22.130607  104.109413  489.763779\n",
       "1   2.175788   4.734055   10.300302   22.411276\n",
       "2   0.380135   0.144502    0.054930    0.020881\n",
       "3   1.255819   1.577082    1.980530    2.487188\n",
       "4   0.346964   0.120384    0.041769    0.014492\n",
       "..       ...        ...         ...         ...\n",
       "95  1.508459   2.275449    3.432421    5.177666\n",
       "96  0.620923   0.385545    0.239394    0.148645\n",
       "97  0.709367   0.503202    0.356955    0.253212\n",
       "98  2.154429   4.641565    9.999923   21.544127\n",
       "99  2.343738   5.493107   12.874403   30.174225\n",
       "\n",
       "[100 rows x 4 columns]"
      ]
     },
     "execution_count": 4,
     "metadata": {},
     "output_type": "execute_result"
    }
   ],
   "source": [
    "from sklearn.preprocessing import PolynomialFeatures\n",
    "poly = PolynomialFeatures(4, include_bias=False)\n",
    "columns = [\"x\"]\n",
    "arr = poly.fit_transform(df[columns])\n",
    "poly_df = pd.DataFrame(arr, columns=poly.get_feature_names(columns))\n",
    "poly_df"
   ]
  },
  {
   "cell_type": "code",
   "execution_count": 5,
   "metadata": {},
   "outputs": [
    {
     "data": {
      "text/plain": [
       "(array([[-11.79697735,   4.92147575,  -0.34851077,  -0.06547438]]),\n",
       " array([7.63529228]))"
      ]
     },
     "execution_count": 5,
     "metadata": {},
     "output_type": "execute_result"
    }
   ],
   "source": [
    "lr = LR()\n",
    "lr.fit(poly_df, df[[\"y\"]])\n",
    "lr.coef_, lr.intercept_"
   ]
  },
  {
   "cell_type": "code",
   "execution_count": 6,
   "metadata": {},
   "outputs": [
    {
     "data": {
      "text/plain": [
       "[<matplotlib.lines.Line2D at 0x7f2311e8ceb8>]"
      ]
     },
     "execution_count": 6,
     "metadata": {},
     "output_type": "execute_result"
    },
    {
     "data": {
      "image/png": "[encoded data removed]",
      "text/plain": [
       "<Figure size 432x288 with 1 Axes>"
      ]
     },
     "metadata": {
      "needs_background": "light"
     },
     "output_type": "display_data"
    }
   ],
   "source": [
    "ax = df.plot.scatter(x=\"x\", y=\"y\", color=\"0.7\")\n",
    "\n",
    "# compute coords along fit line, then plot it\n",
    "fit_x = np.arange(0, 5, 0.1).reshape(-1,1)\n",
    "fit_y = lr.predict(poly.fit_transform(fit_x))\n",
    "ax.plot(fit_x, fit_y, \"red\")"
   ]
  },
  {
   "cell_type": "code",
   "execution_count": 13,
   "metadata": {},
   "outputs": [
    {
     "data": {
      "text/plain": [
       "[<matplotlib.lines.Line2D at 0x7fef017bb080>]"
      ]
     },
     "execution_count": 13,
     "metadata": {},
     "output_type": "execute_result"
    },
    {
     "data": {
      "image/png": "[encoded data removed]",
      "text/plain": [
       "<Figure size 432x288 with 1 Axes>"
      ]
     },
     "metadata": {
      "needs_background": "light"
     },
     "output_type": "display_data"
    }
   ],
   "source": [
    "import numpy as np\n",
    "import pandas as pd\n",
    "from sklearn.linear_model import LinearRegression as LR\n",
    "from sklearn.preprocessing import PolynomialFeatures\n",
    "\n",
    "# random data\n",
    "x = np.random.uniform(0.1, 5, 1000)# TODO: specify sample size\n",
    "noise = np.random.normal(scale=1, size=x.size)\n",
    "y = (4-x)*(2-x)*(1-x) + noise\n",
    "df = pd.DataFrame({\"y\":y, \"x\":x})\n",
    "\n",
    "# add columns for polynomial terms\n",
    "poly = PolynomialFeatures(15, include_bias=False)\n",
    "columns = [\"x\"]\n",
    "arr = poly.fit_transform(df[columns])\n",
    "poly_df = pd.DataFrame(arr, columns=poly.get_feature_names(columns))\n",
    "\n",
    "# linear regression\n",
    "lr = LR()\n",
    "lr.fit(poly_df, df[[\"y\"]])\n",
    "ax = df.plot.scatter(x=\"x\", y=\"y\", color=\"0.7\", ylim=(-20, 20))\n",
    "\n",
    "# compute coords along fit line, then plot it\n",
    "fit_x = np.arange(0, 5, 0.1).reshape(-1,1)\n",
    "fit_y = lr.predict(poly.fit_transform(fit_x))\n",
    "ax.plot(fit_x, fit_y, \"red\")\n"
   ]
  },
  {
   "cell_type": "code",
   "execution_count": null,
   "metadata": {},
   "outputs": [],
   "source": []
  }
 ],
 "metadata": {
  "kernelspec": {
   "display_name": "Python 3",
   "language": "python",
   "name": "python3"
  },
  "language_info": {
   "codemirror_mode": {
    "name": "ipython",
    "version": 3
   },
   "file_extension": ".py",
   "mimetype": "text/x-python",
   "name": "python",
   "nbconvert_exporter": "python",
   "pygments_lexer": "ipython3",
   "version": "3.6.9"
  }
 },
 "nbformat": 4,
 "nbformat_minor": 4
}
