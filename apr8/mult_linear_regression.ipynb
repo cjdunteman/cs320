{
 "cells": [
  {
   "cell_type": "code",
   "execution_count": 1,
   "metadata": {},
   "outputs": [
    {
     "data": {
      "text/plain": [
       "Name                 object\n",
       "JerseyNumber          int64\n",
       "Age                   int64\n",
       "PreferredFoot        object\n",
       "Wage                float64\n",
       "Value               float64\n",
       "PreferredFootInt      int64\n",
       "dtype: object"
      ]
     },
     "execution_count": 1,
     "metadata": {},
     "output_type": "execute_result"
    }
   ],
   "source": [
    "import numpy as np\n",
    "import pandas as pd\n",
    "from sklearn.linear_model import LinearRegression\n",
    "\n",
    "rows = [['M. Dupé', 1, 25, 'Right', 8.0, 900.0],\n",
    "       ['N. Fernández', 26, 18, 'Right', 1.0, 450.0],\n",
    "       ['P. Kalambayi', 30, 18, 'Right', 1.0, 130.0],\n",
    "       ['P. McNair', 17, 23, 'Right', 22.0, 2300.0],\n",
    "       ['G. Bojanich', 23, 33, 'Right', 6.0, 425.0],\n",
    "       ['A. Kofler', 31, 31, 'Right', 3.0, 325.0],\n",
    "       ['N. Lavanchy', 14, 24, 'Right', 3.0, 600.0],\n",
    "       ['O. Al Khalaf', 8, 21, 'Right', 3.0, 240.0],\n",
    "       ['J. Sills', 21, 31, 'Right', 7.0, 600.0],\n",
    "       ['B. Fox', 12, 20, 'Right', 1.0, 230.0],\n",
    "       ['S. Smith', 9, 20, 'Left', 4.0, 450.0],\n",
    "       ['E. Ocansey', 28, 20, 'Left', 5.0, 1600.0],\n",
    "       ['F. Kostić', 10, 25, 'Left', 16.0, 10500.0],\n",
    "       ['M. Ullmann', 13, 22, 'Left', 3.0, 1000.0],\n",
    "       ['R. Taylor', 9, 30, 'Left', 4.0, 625.0],\n",
    "       ['N. Vikonis', 34, 34, 'Left', 7.0, 2700.0],\n",
    "       ['J. Aguirre', 29, 21, 'Left', 1.0, 575.0],\n",
    "       ['J. Konings', 25, 20, 'Left', 1.0, 500.0],\n",
    "       ['J. Raitala', 22, 29, 'Left', 3.0, 700.0],\n",
    "       ['A. Taylor', 3, 31, 'Left', 3.0, 425.0]]\n",
    "df = pd.DataFrame.from_records(rows, columns=[\"Name\", \"JerseyNumber\", \"Age\", \"PreferredFoot\", \"Wage\", \"Value\"])\n",
    "df[\"PreferredFootInt\"] = (df[\"PreferredFoot\"] == \"Right\").astype(int)\n",
    "df.dtypes"
   ]
  },
  {
   "cell_type": "code",
   "execution_count": 2,
   "metadata": {},
   "outputs": [
    {
     "name": "stdout",
     "output_type": "stream",
     "text": [
      "Coef: [[-27.27295206  33.78800374]]\n",
      "Intercept: [923.53888226]\n",
      "Value ~= -27.27295205695321*JerseyNumber + 33.788003740974744*Age + columns\n"
     ]
    }
   ],
   "source": [
    "r = LinearRegression()\n",
    "columns = [\"JerseyNumber\", \"Age\"]\n",
    "r.fit(df[columns].values, df[\"Value\"].values.reshape(-1,1))\n",
    "print(\"Coef:\", r.coef_)\n",
    "print(\"Intercept:\", r.intercept_)\n",
    "\n",
    "def formula(reg, columns):\n",
    "    rv = \"\"\n",
    "    for i in range(len(columns)):\n",
    "        rv += \"{}*{} + \".format(reg.coef_[0,i], columns[i])\n",
    "    rv += str(\"columns\")\n",
    "    return rv\n",
    "\n",
    "print(\"Value ~= \" + formula(r, columns))"
   ]
  },
  {
   "cell_type": "code",
   "execution_count": 4,
   "metadata": {},
   "outputs": [],
   "source": [
    "# r = LinearRegression()\n",
    "# columns = [\"JerseyNumber\", \"Age\", \"PreferredFoot\", \"Wage\"]\n",
    "# r.fit(df[columns].values, df[\"Value\"].values.reshape(-1,1))\n",
    "# print(\"Coef:\", r.coef_)\n",
    "# print(\"Intercept:\", r.intercept_)\n",
    "\n",
    "# def formula(reg, columns):\n",
    "#     rv = \"\"\n",
    "#     for i in range(len(columns)):\n",
    "#         rv += \"{}*{} + \".format(reg.coef_[0,i], columns[i])\n",
    "#     rv += str(\"reg\")\n",
    "#     return rv\n",
    "\n",
    "# print(\"Value ~= \" + formula(r, columns))"
   ]
  },
  {
   "cell_type": "code",
   "execution_count": 5,
   "metadata": {},
   "outputs": [],
   "source": [
    "def euclidean_dist(df, col1, col2):\n",
    "    edist = ((df[\"b\"] - df[\"p1\"]) ** 2).sum() ** 0.5\n",
    "    return edist\n",
    "\n",
    "def mean_squared_error(df, col1, col2):\n",
    "    return (euclidean_dist(df, col1, col2) ** 2) / len(df)"
   ]
  },
  {
   "cell_type": "code",
   "execution_count": 6,
   "metadata": {},
   "outputs": [
    {
     "ename": "NotFittedError",
     "evalue": "This LinearRegression instance is not fitted yet. Call 'fit' with appropriate arguments before using this estimator.",
     "output_type": "error",
     "traceback": [
      "\u001b[0;31m---------------------------------------------------------------------------\u001b[0m",
      "\u001b[0;31mNotFittedError\u001b[0m                            Traceback (most recent call last)",
      "\u001b[0;32m<ipython-input-6-ddd732dfa8ef>\u001b[0m in \u001b[0;36m<module>\u001b[0;34m\u001b[0m\n\u001b[0;32m----> 1\u001b[0;31m \u001b[0mdf\u001b[0m\u001b[0;34m[\u001b[0m\u001b[0;34m\"p\"\u001b[0m\u001b[0;34m]\u001b[0m \u001b[0;34m=\u001b[0m \u001b[0mr\u001b[0m\u001b[0;34m.\u001b[0m\u001b[0mpredict\u001b[0m\u001b[0;34m(\u001b[0m\u001b[0mdf\u001b[0m\u001b[0;34m[\u001b[0m\u001b[0mcolumns\u001b[0m\u001b[0;34m]\u001b[0m\u001b[0;34m)\u001b[0m\u001b[0;34m\u001b[0m\u001b[0;34m\u001b[0m\u001b[0m\n\u001b[0m\u001b[1;32m      2\u001b[0m \u001b[0;34m\u001b[0m\u001b[0m\n\u001b[1;32m      3\u001b[0m \u001b[0mprint\u001b[0m\u001b[0;34m(\u001b[0m\u001b[0;34m\"euclidean dist:\"\u001b[0m\u001b[0;34m,\u001b[0m \u001b[0meuclidean_dist\u001b[0m\u001b[0;34m(\u001b[0m\u001b[0mdf\u001b[0m\u001b[0;34m,\u001b[0m \u001b[0;34m\"Value\"\u001b[0m\u001b[0;34m,\u001b[0m \u001b[0;34m\"p\"\u001b[0m\u001b[0;34m)\u001b[0m\u001b[0;34m)\u001b[0m\u001b[0;34m\u001b[0m\u001b[0;34m\u001b[0m\u001b[0m\n\u001b[1;32m      4\u001b[0m \u001b[0mprint\u001b[0m\u001b[0;34m(\u001b[0m\u001b[0;34m\"MSE:\"\u001b[0m\u001b[0;34m,\u001b[0m \u001b[0mmean_squared_error\u001b[0m\u001b[0;34m(\u001b[0m\u001b[0mdf\u001b[0m\u001b[0;34m,\u001b[0m \u001b[0;34m\"Value\"\u001b[0m\u001b[0;34m,\u001b[0m \u001b[0;34m\"p\"\u001b[0m\u001b[0;34m)\u001b[0m\u001b[0;34m)\u001b[0m\u001b[0;34m\u001b[0m\u001b[0;34m\u001b[0m\u001b[0m\n\u001b[1;32m      5\u001b[0m \u001b[0;34m\u001b[0m\u001b[0m\n",
      "\u001b[0;32m~/.local/lib/python3.6/site-packages/sklearn/linear_model/_base.py\u001b[0m in \u001b[0;36mpredict\u001b[0;34m(self, X)\u001b[0m\n\u001b[1;32m    223\u001b[0m             \u001b[0mReturns\u001b[0m \u001b[0mpredicted\u001b[0m \u001b[0mvalues\u001b[0m\u001b[0;34m.\u001b[0m\u001b[0;34m\u001b[0m\u001b[0;34m\u001b[0m\u001b[0m\n\u001b[1;32m    224\u001b[0m         \"\"\"\n\u001b[0;32m--> 225\u001b[0;31m         \u001b[0;32mreturn\u001b[0m \u001b[0mself\u001b[0m\u001b[0;34m.\u001b[0m\u001b[0m_decision_function\u001b[0m\u001b[0;34m(\u001b[0m\u001b[0mX\u001b[0m\u001b[0;34m)\u001b[0m\u001b[0;34m\u001b[0m\u001b[0;34m\u001b[0m\u001b[0m\n\u001b[0m\u001b[1;32m    226\u001b[0m \u001b[0;34m\u001b[0m\u001b[0m\n\u001b[1;32m    227\u001b[0m     \u001b[0m_preprocess_data\u001b[0m \u001b[0;34m=\u001b[0m \u001b[0mstaticmethod\u001b[0m\u001b[0;34m(\u001b[0m\u001b[0m_preprocess_data\u001b[0m\u001b[0;34m)\u001b[0m\u001b[0;34m\u001b[0m\u001b[0;34m\u001b[0m\u001b[0m\n",
      "\u001b[0;32m~/.local/lib/python3.6/site-packages/sklearn/linear_model/_base.py\u001b[0m in \u001b[0;36m_decision_function\u001b[0;34m(self, X)\u001b[0m\n\u001b[1;32m    203\u001b[0m \u001b[0;34m\u001b[0m\u001b[0m\n\u001b[1;32m    204\u001b[0m     \u001b[0;32mdef\u001b[0m \u001b[0m_decision_function\u001b[0m\u001b[0;34m(\u001b[0m\u001b[0mself\u001b[0m\u001b[0;34m,\u001b[0m \u001b[0mX\u001b[0m\u001b[0;34m)\u001b[0m\u001b[0;34m:\u001b[0m\u001b[0;34m\u001b[0m\u001b[0;34m\u001b[0m\u001b[0m\n\u001b[0;32m--> 205\u001b[0;31m         \u001b[0mcheck_is_fitted\u001b[0m\u001b[0;34m(\u001b[0m\u001b[0mself\u001b[0m\u001b[0;34m)\u001b[0m\u001b[0;34m\u001b[0m\u001b[0;34m\u001b[0m\u001b[0m\n\u001b[0m\u001b[1;32m    206\u001b[0m \u001b[0;34m\u001b[0m\u001b[0m\n\u001b[1;32m    207\u001b[0m         \u001b[0mX\u001b[0m \u001b[0;34m=\u001b[0m \u001b[0mcheck_array\u001b[0m\u001b[0;34m(\u001b[0m\u001b[0mX\u001b[0m\u001b[0;34m,\u001b[0m \u001b[0maccept_sparse\u001b[0m\u001b[0;34m=\u001b[0m\u001b[0;34m[\u001b[0m\u001b[0;34m'csr'\u001b[0m\u001b[0;34m,\u001b[0m \u001b[0;34m'csc'\u001b[0m\u001b[0;34m,\u001b[0m \u001b[0;34m'coo'\u001b[0m\u001b[0;34m]\u001b[0m\u001b[0;34m)\u001b[0m\u001b[0;34m\u001b[0m\u001b[0;34m\u001b[0m\u001b[0m\n",
      "\u001b[0;32m~/.local/lib/python3.6/site-packages/sklearn/utils/validation.py\u001b[0m in \u001b[0;36mcheck_is_fitted\u001b[0;34m(estimator, attributes, msg, all_or_any)\u001b[0m\n\u001b[1;32m    965\u001b[0m \u001b[0;34m\u001b[0m\u001b[0m\n\u001b[1;32m    966\u001b[0m     \u001b[0;32mif\u001b[0m \u001b[0;32mnot\u001b[0m \u001b[0mattrs\u001b[0m\u001b[0;34m:\u001b[0m\u001b[0;34m\u001b[0m\u001b[0;34m\u001b[0m\u001b[0m\n\u001b[0;32m--> 967\u001b[0;31m         \u001b[0;32mraise\u001b[0m \u001b[0mNotFittedError\u001b[0m\u001b[0;34m(\u001b[0m\u001b[0mmsg\u001b[0m \u001b[0;34m%\u001b[0m \u001b[0;34m{\u001b[0m\u001b[0;34m'name'\u001b[0m\u001b[0;34m:\u001b[0m \u001b[0mtype\u001b[0m\u001b[0;34m(\u001b[0m\u001b[0mestimator\u001b[0m\u001b[0;34m)\u001b[0m\u001b[0;34m.\u001b[0m\u001b[0m__name__\u001b[0m\u001b[0;34m}\u001b[0m\u001b[0;34m)\u001b[0m\u001b[0;34m\u001b[0m\u001b[0;34m\u001b[0m\u001b[0m\n\u001b[0m\u001b[1;32m    968\u001b[0m \u001b[0;34m\u001b[0m\u001b[0m\n\u001b[1;32m    969\u001b[0m \u001b[0;34m\u001b[0m\u001b[0m\n",
      "\u001b[0;31mNotFittedError\u001b[0m: This LinearRegression instance is not fitted yet. Call 'fit' with appropriate arguments before using this estimator."
     ]
    }
   ],
   "source": [
    "df[\"p\"] = r.predict(df[columns])\n",
    "\n",
    "print(\"euclidean dist:\", euclidean_dist(df, \"Value\", \"p\"))\n",
    "print(\"MSE:\", mean_squared_error(df, \"Value\", \"p\"))\n",
    "\n",
    "df"
   ]
  },
  {
   "cell_type": "code",
   "execution_count": null,
   "metadata": {},
   "outputs": [],
   "source": []
  }
 ],
 "metadata": {
  "kernelspec": {
   "display_name": "Python 3",
   "language": "python",
   "name": "python3"
  },
  "language_info": {
   "codemirror_mode": {
    "name": "ipython",
    "version": 3
   },
   "file_extension": ".py",
   "mimetype": "text/x-python",
   "name": "python",
   "nbconvert_exporter": "python",
   "pygments_lexer": "ipython3",
   "version": "3.6.9"
  }
 },
 "nbformat": 4,
 "nbformat_minor": 4
}
