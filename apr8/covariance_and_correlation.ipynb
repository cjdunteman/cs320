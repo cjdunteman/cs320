{
 "cells": [
  {
   "cell_type": "code",
   "execution_count": 1,
   "metadata": {},
   "outputs": [
    {
     "data": {
      "text/html": [
       "<div>\n",
       "<style scoped>\n",
       "    .dataframe tbody tr th:only-of-type {\n",
       "        vertical-align: middle;\n",
       "    }\n",
       "\n",
       "    .dataframe tbody tr th {\n",
       "        vertical-align: top;\n",
       "    }\n",
       "\n",
       "    .dataframe thead th {\n",
       "        text-align: right;\n",
       "    }\n",
       "</style>\n",
       "<table border=\"1\" class=\"dataframe\">\n",
       "  <thead>\n",
       "    <tr style=\"text-align: right;\">\n",
       "      <th></th>\n",
       "      <th>w_in</th>\n",
       "      <th>h_in</th>\n",
       "      <th>border_in</th>\n",
       "      <th>w_cm</th>\n",
       "      <th>h_cm</th>\n",
       "    </tr>\n",
       "  </thead>\n",
       "  <tbody>\n",
       "    <tr>\n",
       "      <th>0</th>\n",
       "      <td>15.159883</td>\n",
       "      <td>14.117490</td>\n",
       "      <td>64.970220</td>\n",
       "      <td>40.257140</td>\n",
       "      <td>40.791084</td>\n",
       "    </tr>\n",
       "    <tr>\n",
       "      <th>1</th>\n",
       "      <td>33.182271</td>\n",
       "      <td>43.452454</td>\n",
       "      <td>155.416170</td>\n",
       "      <td>82.471423</td>\n",
       "      <td>109.585486</td>\n",
       "    </tr>\n",
       "    <tr>\n",
       "      <th>2</th>\n",
       "      <td>41.473454</td>\n",
       "      <td>26.847673</td>\n",
       "      <td>137.152581</td>\n",
       "      <td>104.338858</td>\n",
       "      <td>66.346342</td>\n",
       "    </tr>\n",
       "    <tr>\n",
       "      <th>3</th>\n",
       "      <td>33.864992</td>\n",
       "      <td>43.455094</td>\n",
       "      <td>156.779960</td>\n",
       "      <td>86.942496</td>\n",
       "      <td>111.870553</td>\n",
       "    </tr>\n",
       "    <tr>\n",
       "      <th>4</th>\n",
       "      <td>6.528952</td>\n",
       "      <td>47.159404</td>\n",
       "      <td>106.109289</td>\n",
       "      <td>14.864713</td>\n",
       "      <td>118.769270</td>\n",
       "    </tr>\n",
       "  </tbody>\n",
       "</table>\n",
       "</div>"
      ],
      "text/plain": [
       "        w_in       h_in   border_in        w_cm        h_cm\n",
       "0  15.159883  14.117490   64.970220   40.257140   40.791084\n",
       "1  33.182271  43.452454  155.416170   82.471423  109.585486\n",
       "2  41.473454  26.847673  137.152581  104.338858   66.346342\n",
       "3  33.864992  43.455094  156.779960   86.942496  111.870553\n",
       "4   6.528952  47.159404  106.109289   14.864713  118.769270"
      ]
     },
     "execution_count": 1,
     "metadata": {},
     "output_type": "execute_result"
    }
   ],
   "source": [
    "import matplotlib.pyplot as plt\n",
    "import numpy as np\n",
    "import pandas as pd\n",
    "\n",
    "# build DataFrame of rectangle measurements\n",
    "\n",
    "df = pd.DataFrame()\n",
    "rows = 100\n",
    "df[\"w_in\"] = np.random.uniform(5,50,rows) # in inches\n",
    "df[\"h_in\"] = np.random.uniform(5,50,rows)\n",
    "df[\"border_in\"] = 2*df[\"w_in\"] + 2*df[\"h_in\"]\n",
    "df[\"w_cm\"] = df[\"w_in\"] * 2.54\n",
    "df[\"h_cm\"] = df[\"h_in\"] * 2.54\n",
    "df += np.random.normal(size=(df.shape))\n",
    "df.head()"
   ]
  },
  {
   "cell_type": "code",
   "execution_count": 2,
   "metadata": {},
   "outputs": [
    {
     "data": {
      "text/html": [
       "<div>\n",
       "<style scoped>\n",
       "    .dataframe tbody tr th:only-of-type {\n",
       "        vertical-align: middle;\n",
       "    }\n",
       "\n",
       "    .dataframe tbody tr th {\n",
       "        vertical-align: top;\n",
       "    }\n",
       "\n",
       "    .dataframe thead th {\n",
       "        text-align: right;\n",
       "    }\n",
       "</style>\n",
       "<table border=\"1\" class=\"dataframe\">\n",
       "  <thead>\n",
       "    <tr style=\"text-align: right;\">\n",
       "      <th></th>\n",
       "      <th>w_in</th>\n",
       "      <th>h_in</th>\n",
       "      <th>border_in</th>\n",
       "      <th>w_cm</th>\n",
       "      <th>h_cm</th>\n",
       "    </tr>\n",
       "  </thead>\n",
       "  <tbody>\n",
       "    <tr>\n",
       "      <th>w_in</th>\n",
       "      <td>1.000000</td>\n",
       "      <td>-0.015390</td>\n",
       "      <td>0.698523</td>\n",
       "      <td>0.997002</td>\n",
       "      <td>-0.006298</td>\n",
       "    </tr>\n",
       "    <tr>\n",
       "      <th>h_in</th>\n",
       "      <td>-0.015390</td>\n",
       "      <td>1.000000</td>\n",
       "      <td>0.700851</td>\n",
       "      <td>-0.018749</td>\n",
       "      <td>0.996996</td>\n",
       "    </tr>\n",
       "    <tr>\n",
       "      <th>border_in</th>\n",
       "      <td>0.698523</td>\n",
       "      <td>0.700851</td>\n",
       "      <td>1.000000</td>\n",
       "      <td>0.696864</td>\n",
       "      <td>0.708936</td>\n",
       "    </tr>\n",
       "    <tr>\n",
       "      <th>w_cm</th>\n",
       "      <td>0.997002</td>\n",
       "      <td>-0.018749</td>\n",
       "      <td>0.696864</td>\n",
       "      <td>1.000000</td>\n",
       "      <td>-0.009915</td>\n",
       "    </tr>\n",
       "    <tr>\n",
       "      <th>h_cm</th>\n",
       "      <td>-0.006298</td>\n",
       "      <td>0.996996</td>\n",
       "      <td>0.708936</td>\n",
       "      <td>-0.009915</td>\n",
       "      <td>1.000000</td>\n",
       "    </tr>\n",
       "  </tbody>\n",
       "</table>\n",
       "</div>"
      ],
      "text/plain": [
       "               w_in      h_in  border_in      w_cm      h_cm\n",
       "w_in       1.000000 -0.015390   0.698523  0.997002 -0.006298\n",
       "h_in      -0.015390  1.000000   0.700851 -0.018749  0.996996\n",
       "border_in  0.698523  0.700851   1.000000  0.696864  0.708936\n",
       "w_cm       0.997002 -0.018749   0.696864  1.000000 -0.009915\n",
       "h_cm      -0.006298  0.996996   0.708936 -0.009915  1.000000"
      ]
     },
     "execution_count": 2,
     "metadata": {},
     "output_type": "execute_result"
    }
   ],
   "source": [
    "# Correlation matrix\n",
    "corr = df.corr()\n",
    "corr"
   ]
  },
  {
   "cell_type": "code",
   "execution_count": 8,
   "metadata": {},
   "outputs": [
    {
     "data": {
      "text/plain": [
       "<matplotlib.colorbar.Colorbar at 0x7f435e2d45f8>"
      ]
     },
     "execution_count": 8,
     "metadata": {},
     "output_type": "execute_result"
    },
    {
     "data": {
      "image/png": "[encoded data removed]",
      "text/plain": [
       "<Figure size 432x288 with 2 Axes>"
      ]
     },
     "metadata": {
      "needs_background": "light"
     },
     "output_type": "display_data"
    }
   ],
   "source": [
    "plt.xticks(range(len(corr)), corr.columns)\n",
    "plt.yticks(range(len(corr)), corr.columns)\n",
    "ax = plt.imshow(corr, cmap=\"coolwarm\", vmin=-1, vmax=1)\n",
    "plt.colorbar()"
   ]
  },
  {
   "cell_type": "code",
   "execution_count": null,
   "metadata": {},
   "outputs": [],
   "source": []
  }
 ],
 "metadata": {
  "kernelspec": {
   "display_name": "Python 3",
   "language": "python",
   "name": "python3"
  },
  "language_info": {
   "codemirror_mode": {
    "name": "ipython",
    "version": 3
   },
   "file_extension": ".py",
   "mimetype": "text/x-python",
   "name": "python",
   "nbconvert_exporter": "python",
   "pygments_lexer": "ipython3",
   "version": "3.6.9"
  }
 },
 "nbformat": 4,
 "nbformat_minor": 4
}
