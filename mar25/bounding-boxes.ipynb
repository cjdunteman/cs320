{
 "cells": [
  {
   "cell_type": "code",
   "execution_count": 11,
   "metadata": {},
   "outputs": [
    {
     "name": "stdout",
     "output_type": "stream",
     "text": [
      "[[0.1 0.4]\n",
      " [0.2 0.2]\n",
      " [0.3 0.1]\n",
      " [0.4 0.3]]\n"
     ]
    },
    {
     "data": {
      "image/png": "[encoded data removed]",
      "text/plain": [
       "<Figure size 504x288 with 2 Axes>"
      ]
     },
     "metadata": {
      "needs_background": "light"
     },
     "output_type": "display_data"
    }
   ],
   "source": [
    "import pandas as pd\n",
    "from matplotlib import pyplot as plt\n",
    "\n",
    "df = pd.DataFrame([\n",
    "    {\"x\":0.1, \"y\":0.4},\n",
    "    {\"x\":0.2, \"y\":0.2},\n",
    "    {\"x\":0.3, \"y\":0.1},\n",
    "    {\"x\":0.4, \"y\":0.3}\n",
    "])\n",
    "\n",
    "fig, (ax1, ax2) = plt.subplots(ncols=2, figsize=(7, 4))\n",
    "ax2.set_xlim(0.1, 0.6)\n",
    "\n",
    "points = df[[\"x\", \"y\"]].values\n",
    "print(points)\n",
    "\n",
    "def scatter(ax, points, style=\"bo\", size=10):\n",
    "    for x, y in points:\n",
    "        ax.plot(x, y, style, markersize=size)\n",
    "\n",
    "scatter(ax1, points)\n",
    "scatter(ax2, points, \"rx\") # make large red X's\n",
    "fig.savefig(\"good.png\", bbox_inches=None)\n",
    "fig.savefig(\"bad.png\", bbox_inches=\"tight\")"
   ]
  },
  {
   "cell_type": "code",
   "execution_count": null,
   "metadata": {},
   "outputs": [],
   "source": []
  }
 ],
 "metadata": {
  "kernelspec": {
   "display_name": "Python 3",
   "language": "python",
   "name": "python3"
  },
  "language_info": {
   "codemirror_mode": {
    "name": "ipython",
    "version": 3
   },
   "file_extension": ".py",
   "mimetype": "text/x-python",
   "name": "python",
   "nbconvert_exporter": "python",
   "pygments_lexer": "ipython3",
   "version": "3.6.9"
  }
 },
 "nbformat": 4,
 "nbformat_minor": 4
}
